{
 "cells": [
  {
   "cell_type": "code",
   "execution_count": 27,
   "metadata": {
    "collapsed": true
   },
   "outputs": [],
   "source": [
    "import math\n",
    "import numpy as np\n",
    "import pylab as pl\n",
    "%matplotlib inline"
   ]
  },
  {
   "cell_type": "markdown",
   "metadata": {},
   "source": [
    "<h2> Algoritmo Trivial </h2>"
   ]
  },
  {
   "cell_type": "code",
   "execution_count": 28,
   "metadata": {
    "collapsed": true
   },
   "outputs": [],
   "source": [
    "def trivial(lista):\n",
    "    sumaMaxima = 0\n",
    "    for i in range(len(lista)):\n",
    "        for j in range(i, len(lista)):\n",
    "            suma = 0\n",
    "            for k in range(i,j):\n",
    "                suma = suma + lista[k]\n",
    "                if (suma > sumaMaxima):\n",
    "                    sumaMaxima = suma\n",
    "    return sumaMaxima "
   ]
  },
  {
   "cell_type": "code",
   "execution_count": 29,
   "metadata": {
    "collapsed": false
   },
   "outputs": [
    {
     "name": "stdout",
     "output_type": "stream",
     "text": [
      "[-2, 11, -4, 13, -5, -2]\n",
      "20\n"
     ]
    }
   ],
   "source": [
    "A = [-2, 11, -4, 13, -5, -2]\n",
    "print (A)\n",
    "maximo = trivial(A)\n",
    "print (maximo)"
   ]
  },
  {
   "cell_type": "markdown",
   "metadata": {},
   "source": [
    "<h2> Algoritmo Divide y Vencerás </h2>"
   ]
  },
  {
   "cell_type": "code",
   "execution_count": 30,
   "metadata": {
    "collapsed": true
   },
   "outputs": [],
   "source": [
    "def maximo(a, b, c):\n",
    "    return max(max(a,b),c)\n",
    "\n",
    "def maxSuma(lista, l, m, h):\n",
    "    suma = 0\n",
    "    sumaIzq = -999999\n",
    "    for i in range(m, l, -1):\n",
    "        suma = suma + lista[i]\n",
    "        if (suma > sumaIzq):\n",
    "            sumaIzq = suma\n",
    "            \n",
    "    suma = 0\n",
    "    sumaDer = -999999\n",
    "    for i in range(m+1, h):\n",
    "        suma = suma + lista[i]\n",
    "        if (suma > sumaDer):\n",
    "            sumaDer = suma\n",
    "            \n",
    "    return sumaIzq + sumaDer\n",
    "\n",
    "def maxSubArreglo(lista, l, h):\n",
    "    if(l == h):\n",
    "        return lista[l]\n",
    "    \n",
    "    m = (l + h)/2\n",
    "    \n",
    "    return maximo(maxSubArreglo(lista, l, m),\n",
    "                  maxSubArreglo(lista, m+1, h),\n",
    "                  maxSuma(lista, l, m, h))"
   ]
  },
  {
   "cell_type": "code",
   "execution_count": 31,
   "metadata": {
    "collapsed": false
   },
   "outputs": [
    {
     "name": "stdout",
     "output_type": "stream",
     "text": [
      "[-2, 11, -4, 13, -5, -2]\n",
      "20\n"
     ]
    }
   ],
   "source": [
    "A = [-2, 11, -4, 13, -5, -2]\n",
    "print (A)\n",
    "maximo = maxSubArreglo(A, 0, len(A)-1)\n",
    "print (maximo)"
   ]
  },
  {
   "cell_type": "markdown",
   "metadata": {},
   "source": [
    "<h2> Algoritmo J.L. Bentley 1989 </h2>"
   ]
  },
  {
   "cell_type": "code",
   "execution_count": 32,
   "metadata": {
    "collapsed": true
   },
   "outputs": [],
   "source": [
    "def sumaMaximaBentley(lista, l, h):\n",
    "    if(l > h):\n",
    "        return 0\n",
    "    \n",
    "    if(l == h):\n",
    "        return max(0, lista[l])\n",
    "    \n",
    "    m = (l + h)/2\n",
    "    \n",
    "    maxAux = max (sumaMaximaBentley(lista, l, m),\n",
    "                  sumaMaximaBentley(lista, m+1, h))\n",
    "    \n",
    "    maxIzq = 0\n",
    "    suma = 0\n",
    "    \n",
    "    for i in range(m, l, -1):\n",
    "        suma = suma + lista[i]\n",
    "        maxIzq = max(maxIzq, suma)\n",
    "        \n",
    "    maxDer = 0\n",
    "    suma = 0\n",
    "    \n",
    "    for i in range(m+1, h):\n",
    "        suma = suma + lista[i]\n",
    "        maxDer = max(maxDer, suma)\n",
    "        \n",
    "    return max(maxDer + maxIzq, maxAux)"
   ]
  },
  {
   "cell_type": "code",
   "execution_count": 33,
   "metadata": {
    "collapsed": false
   },
   "outputs": [
    {
     "name": "stdout",
     "output_type": "stream",
     "text": [
      "[-2, 11, -4, 13, -5, -2]\n",
      "20\n"
     ]
    }
   ],
   "source": [
    "A = [-2, 11, -4, 13, -5, -2]\n",
    "print (A)\n",
    "maximo = sumaMaximaBentley(A, 0, len(A)-1)\n",
    "print (maximo)"
   ]
  }
 ],
 "metadata": {
  "anaconda-cloud": {},
  "kernelspec": {
   "display_name": "Python [default]",
   "language": "python",
   "name": "python2"
  },
  "language_info": {
   "codemirror_mode": {
    "name": "ipython",
    "version": 2
   },
   "file_extension": ".py",
   "mimetype": "text/x-python",
   "name": "python",
   "nbconvert_exporter": "python",
   "pygments_lexer": "ipython2",
   "version": "2.7.12"
  }
 },
 "nbformat": 4,
 "nbformat_minor": 1
}
