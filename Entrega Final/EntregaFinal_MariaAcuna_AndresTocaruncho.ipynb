{
 "cells": [
  {
   "cell_type": "markdown",
   "metadata": {},
   "source": [
    "<h1> Proyecto Final </h1><br>\n",
    "María Ximena Acuña -  Andrés Felipe Tocaruncho"
   ]
  },
  {
   "cell_type": "markdown",
   "metadata": {},
   "source": [
    "<h2> Problema 1 - LP </h2>"
   ]
  },
  {
   "cell_type": "markdown",
   "metadata": {},
   "source": [
    "<h3> Variante 1 </h3>\n",
    "Suponga que se planea contruir una nueva cadena de tiendas en una ciudad dada, usted tiene identificado una serie de ubicaciones potenciales en diferentes barrios. Si usted quiere construir exactamente k tiendas,  ¿dónde debería localizarlas de forma que minimice la distancia promedio de los clientes? "
   ]
  },
  {
   "cell_type": "markdown",
   "metadata": {},
   "source": [
    "<h4> Algoritmo propuesto </h4>"
   ]
  },
  {
   "cell_type": "code",
   "execution_count": 34,
   "metadata": {
    "collapsed": true
   },
   "outputs": [],
   "source": [
    "import itertools "
   ]
  },
  {
   "cell_type": "code",
   "execution_count": 44,
   "metadata": {
    "collapsed": true
   },
   "outputs": [],
   "source": [
    "def punto1A(nombre_archivo, n):\n",
    "    dist = []\n",
    "    ids = []\n",
    "    nombres = []\n",
    "    \n",
    "    archivo = open(nombre_archivo, \"r\")\n",
    "    \n",
    "    k = int(archivo.readline())\n",
    "    \n",
    "    for i in range (1,n):\n",
    "        li = archivo.readline()\n",
    "        linea = li.split(\" \")\n",
    "        nombres.append(linea[0])\n",
    "        ids.append(len(nombres)-1)\n",
    "        dist.append([])\n",
    "        for j in range(1,n):\n",
    "            dist[len(ids)-1].append(int(linea[j]))\n",
    "    \n",
    "    comb = itertools.combinations(ids, k)\n",
    "    lista_comb = [list(x) for x in comb]\n",
    "    \n",
    "    dist = floyd_warshall(dist)\n",
    "    \n",
    "    menor = 100000\n",
    "    abrir = []\n",
    "    for i in range(len(lista_comb)):        \n",
    "        cost = costo(lista_comb[i], len(ids), dist)\n",
    "        if (cost < menor):\n",
    "            menor = cost\n",
    "            abrir = lista_comb[i]\n",
    "            \n",
    "    output = open(nombre_archivo.replace(\"input\", \"output\"), \"w\")\n",
    "    \n",
    "    output.write(str(menor) + \"\\n\")\n",
    "    \n",
    "    for a in abrir:\n",
    "        output.write(nombres[a] + \",\")\n",
    "        \n",
    "    print \"Se abren los barrios \", abrir, \"con costo \", menor\n",
    "        \n",
    "def costo(combinacion, n, dist):\n",
    "    total = 0\n",
    "    for i in range(n):\n",
    "        menor = 100000\n",
    "        for j in combinacion:\n",
    "            if (dist[j][i] < menor):\n",
    "                menor = dist[j][i]\n",
    "        total = total + menor\n",
    "    return total\n",
    "\n",
    "def floyd_warshall(dist):    \n",
    "    for i in range(len(dist)):\n",
    "        for j in range(len(dist)):\n",
    "            for k in range(len(dist)):\n",
    "                if(dist[j][i]+dist[i][k]<dist[j][k]):\n",
    "                    dist[j][k] = dist[j][i]+dist[i][k]\n",
    "    return dist"
   ]
  },
  {
   "cell_type": "code",
   "execution_count": 45,
   "metadata": {
    "collapsed": false
   },
   "outputs": [
    {
     "name": "stdout",
     "output_type": "stream",
     "text": [
      "Se abren los barrios  [0, 1, 2] con costo  2\n"
     ]
    }
   ],
   "source": [
    "punto1A(\"input_n5_k3\", 5)"
   ]
  },
  {
   "cell_type": "markdown",
   "metadata": {},
   "source": [
    "<h4> Análisis del tiempo de ejecución </h4>"
   ]
  },
  {
   "cell_type": "code",
   "execution_count": 46,
   "metadata": {
    "collapsed": true
   },
   "outputs": [],
   "source": [
    "class Counter:\n",
    "    '''\n",
    "    Class Counter\n",
    "    Implements a step counter, which is used to compute the number of basic operations performed in\n",
    "    a particular call to a function.\n",
    "    '''\n",
    "    def __init__(self):\n",
    "        self.steps = 0\n",
    "\n",
    "    def reset(self):\n",
    "        self.steps = 0\n",
    "\n",
    "    def count(self):\n",
    "        self.steps += 1\n",
    "\n",
    "    def print_steps(self):\n",
    "        print \"Número de pasos =\", self.steps\n",
    "\n",
    "def acct_punto1A(nombre_archivo, acct, n):\n",
    "    dist = []\n",
    "    ids = []\n",
    "    nombres = []\n",
    "    \n",
    "    archivo = open(nombre_archivo, \"r\"); acct.count()\n",
    "    \n",
    "    k = int(archivo.readline()); acct.count()\n",
    "    \n",
    "    for i in range (1,n):\n",
    "        li = archivo.readline(); acct.count()\n",
    "        linea = li.split(\" \"); acct.count()\n",
    "        nombres.append(linea[0]); acct.count()\n",
    "        ids.append(len(nombres)-1); acct.count()\n",
    "        dist.append([]); acct.count()\n",
    "        for j in range(1,n):\n",
    "            dist[len(ids)-1].append(int(linea[j])); acct.count()\n",
    "    \n",
    "    comb = itertools.combinations(ids, k); acct.count()\n",
    "    lista_comb = [list(x) for x in comb]; acct.count()\n",
    "    \n",
    "    dist = floyd_warshall(dist)\n",
    "    \n",
    "    menor = 100000\n",
    "    abrir = []\n",
    "    for i in range(len(lista_comb)):        \n",
    "        cost = costo(lista_comb[i], len(ids), dist); acct.count()\n",
    "        if (cost < menor):\n",
    "            menor = cost; acct.count()\n",
    "            abrir = lista_comb[i]; acct.count()\n",
    "            \n",
    "    output = open(nombre_archivo.replace(\"input\", \"output\"), \"w\")\n",
    "    \n",
    "    output.write(str(menor) + \"\\n\")\n",
    "    \n",
    "    for a in abrir:\n",
    "        output.write(nombres[a] + \",\")\n",
    "        \n",
    "    print \"Se abren los barrios \", abrir, \"con costo \", menor\n",
    "        \n",
    "def costo(combinacion, n, dist):\n",
    "    total = 0\n",
    "    for i in range(n):\n",
    "        menor = 100000\n",
    "        for j in combinacion:\n",
    "            if (dist[j][i] < menor):\n",
    "                menor = dist[j][i]; acct.count()\n",
    "        total = total + menor; acct.count()\n",
    "    return total\n",
    "\n",
    "def floyd_warshall(dist):    \n",
    "    for i in range(len(dist)):\n",
    "        for j in range(len(dist)):\n",
    "            for k in range(len(dist)):\n",
    "                if(dist[j][i]+dist[i][k]<dist[j][k]):\n",
    "                    dist[j][k] = dist[j][i]+dist[i][k]; acct.count()\n",
    "    return dist"
   ]
  },
  {
   "cell_type": "code",
   "execution_count": 47,
   "metadata": {
    "collapsed": false
   },
   "outputs": [
    {
     "name": "stdout",
     "output_type": "stream",
     "text": [
      "Se abren los barrios  [0, 1, 2] con costo  2\n",
      "Número de pasos = 95\n"
     ]
    }
   ],
   "source": [
    "acct = Counter()\n",
    "acct_punto1A(\"input_n5_k3\", acct, 5)\n",
    "acct.print_steps()"
   ]
  },
  {
   "cell_type": "markdown",
   "metadata": {},
   "source": [
    "<h4> Análisis experimental </h4>\n",
    "Se utilizará la misma entrada, cambiando el n desde 4 hasta 10."
   ]
  },
  {
   "cell_type": "code",
   "execution_count": 48,
   "metadata": {
    "collapsed": false
   },
   "outputs": [
    {
     "name": "stdout",
     "output_type": "stream",
     "text": [
      "Se abren los barrios  [0, 1, 2] con costo  0\n",
      "Se abren los barrios  [0, 1, 2] con costo  12\n",
      "Se abren los barrios  [0, 2, 4] con costo  27\n",
      "Se abren los barrios  [0, 2, 4] con costo  45\n",
      "Se abren los barrios  [0, 3, 5] con costo  58\n",
      "Se abren los barrios  [0, 3, 5] con costo  72\n",
      "Se abren los barrios  [0, 3, 5] con costo  92\n",
      "[31, 46, 70, 96, 133, 174, 224]\n"
     ]
    }
   ],
   "source": [
    "def exper_analysis(n):\n",
    "    results = []\n",
    "    acct = Counter()\n",
    "    for i in range(4, n+1):\n",
    "        acct.reset()\n",
    "        acct_punto1A(\"input_n10_k3\", acct, i)\n",
    "        results.append(acct.steps)\n",
    "    return results\n",
    "\n",
    "print exper_analysis(10)"
   ]
  },
  {
   "cell_type": "code",
   "execution_count": 59,
   "metadata": {
    "collapsed": false
   },
   "outputs": [
    {
     "name": "stdout",
     "output_type": "stream",
     "text": [
      "Se abren los barrios  [0, 1, 2] con costo  0\n",
      "Se abren los barrios  [0, 1, 2] con costo  12\n",
      "Se abren los barrios  [0, 2, 4] con costo  27\n",
      "Se abren los barrios  [0, 2, 4] con costo  45\n",
      "Se abren los barrios  [0, 3, 5] con costo  58\n",
      "Se abren los barrios  [0, 3, 5] con costo  72\n",
      "Se abren los barrios  [0, 3, 5] con costo  92\n",
      "[189.5000000000202, 76.49999999994606, 130.19999999999143, 90.19999999999584, 138.10000000002987, 214.80000000000388, 328.79999999995135]\n"
     ]
    }
   ],
   "source": [
    "import time\n",
    "\n",
    "def time_analysis(n):\n",
    "    results = []\n",
    "    for i in range(4, n+1):\n",
    "        tic = time.clock()\n",
    "        punto1A(\"input_n10_k3\", i)\n",
    "        toc = time.clock()\n",
    "        results.append((toc-tic)*100000)\n",
    "    return results\n",
    "\n",
    "print time_analysis(10)"
   ]
  },
  {
   "cell_type": "code",
   "execution_count": 55,
   "metadata": {
    "collapsed": false
   },
   "outputs": [
    {
     "name": "stdout",
     "output_type": "stream",
     "text": [
      "[22.180709777918249, 40.235947810852508, 64.503340892209977, 95.349597303710354, 133.08425866750949, 177.97519076423379, 230.25850929940458]\n"
     ]
    }
   ],
   "source": [
    "import random as rnd\n",
    "import numpy as np\n",
    "\n",
    "def teoric_analysis(n):\n",
    "    results = []\n",
    "    for i in range(4,n+1):\n",
    "        l = i*i*np.log(i)\n",
    "        results.append(l)\n",
    "    return results\n",
    "\n",
    "print teoric_analysis(10)"
   ]
  },
  {
   "cell_type": "code",
   "execution_count": 60,
   "metadata": {
    "collapsed": false
   },
   "outputs": [
    {
     "name": "stdout",
     "output_type": "stream",
     "text": [
      "Se abren los barrios  [0, 1, 2] con costo  0\n",
      "Se abren los barrios  [0, 1, 2] con costo  12\n",
      "Se abren los barrios  [0, 2, 4] con costo  27\n",
      "Se abren los barrios  [0, 2, 4] con costo  45\n",
      "Se abren los barrios  [0, 3, 5] con costo  58\n",
      "Se abren los barrios  [0, 3, 5] con costo  72\n",
      "Se abren los barrios  [0, 3, 5] con costo  92\n",
      "Se abren los barrios  [0, 1, 2] con costo  0\n",
      "Se abren los barrios  [0, 1, 2] con costo  12\n",
      "Se abren los barrios  [0, 2, 4] con costo  27\n",
      "Se abren los barrios  [0, 2, 4] con costo  45\n",
      "Se abren los barrios  [0, 3, 5] con costo  58\n",
      "Se abren los barrios  [0, 3, 5] con costo  72\n",
      "Se abren los barrios  [0, 3, 5] con costo  92\n"
     ]
    },
    {
     "data": {
      "text/plain": [
       "[<matplotlib.lines.Line2D at 0x7f4413d6afd0>]"
      ]
     },
     "execution_count": 60,
     "metadata": {},
     "output_type": "execute_result"
    },
    {
     "data": {
      "image/png": "[encoded data removed]",
      "text/plain": [
       "<matplotlib.figure.Figure at 0x7f4413da60d0>"
      ]
     },
     "metadata": {},
     "output_type": "display_data"
    }
   ],
   "source": [
    "import pylab as pl\n",
    "%matplotlib inline\n",
    "\n",
    "pl.clf()\n",
    "x = np.arange(4,11)\n",
    "y = np.array(exper_analysis(10))\n",
    "pl.plot(x, y, 'k.', color ='r')\n",
    "z = np.array(teoric_analysis(10))\n",
    "pl.plot(x, z, 'k.', color='c')\n",
    "w = np.array(time_analysis(10))\n",
    "pl.plot(x, w, 'k.', color='g')"
   ]
  },
  {
   "cell_type": "markdown",
   "metadata": {},
   "source": [
    "<h3> Variante 2 </h3>\n",
    "Si en lugar usted desea construir una cantidad variable de tiendas, y el costo de construir una tienda en cada sitio es conocido, ¿dónde debería construir las tiendas de forma que minimice el costo total del construcción y la distancia promedio de los clientes?"
   ]
  },
  {
   "cell_type": "markdown",
   "metadata": {},
   "source": [
    "<h4> Algoritmo propuesto </h4>"
   ]
  },
  {
   "cell_type": "code",
   "execution_count": 67,
   "metadata": {
    "collapsed": true
   },
   "outputs": [],
   "source": [
    "def punto1B(nombre_archivo, n):\n",
    "    dist = []\n",
    "    ids = []\n",
    "    nombres = []\n",
    "    costos = []\n",
    "    lista_comb = []\n",
    "    \n",
    "    archivo = open(nombre_archivo, \"r\")\n",
    "    \n",
    "    k = int(archivo.readline())\n",
    "    \n",
    "    for i in range (1,n):\n",
    "        li = archivo.readline()\n",
    "        linea = li.split(\" \")\n",
    "        nombres.append(linea[0])\n",
    "        ids.append(len(nombres)-1)\n",
    "        costos.append(int(linea[1]))\n",
    "        dist.append([])\n",
    "        for j in range(2,n+1):\n",
    "            dist[len(ids)-1].append(int(linea[j]))\n",
    "    \n",
    "    for i in range(1,k+1):\n",
    "        comb = itertools.combinations(ids, i)\n",
    "        list_comb = [list(x) for x in comb]\n",
    "        for j in list_comb:\n",
    "            lista_comb.append(j)\n",
    "    \n",
    "    dist = floyd_warshall(dist)\n",
    "    \n",
    "    menor = 100000\n",
    "    abrir = []\n",
    "    for i in range(len(lista_comb)):        \n",
    "        cost = costo(lista_comb[i], len(ids), dist, costos)\n",
    "        if (cost < menor):\n",
    "            menor = cost\n",
    "            abrir = lista_comb[i]\n",
    "            \n",
    "    output = open(nombre_archivo.replace(\"input\", \"output\"), \"w\")\n",
    "    \n",
    "    output.write(str(menor) + \"\\n\")\n",
    "    \n",
    "    for a in abrir:\n",
    "        output.write(nombres[a] + \",\")\n",
    "        \n",
    "    print \"Se abren los barrios \", abrir, \"con costo \", menor\n",
    "        \n",
    "def costo(combinacion, n, dist, costos):\n",
    "    total = 0\n",
    "    \n",
    "    for j in combinacion:\n",
    "        total += costos[j]\n",
    "    \n",
    "    for i in range(n):\n",
    "        menor = 100000\n",
    "        for j in combinacion:\n",
    "            if (dist[j][i] < menor):\n",
    "                menor = dist[j][i]\n",
    "        total = total + menor\n",
    "    return total\n",
    "\n",
    "def floyd_warshall(dist):    \n",
    "    for i in range(len(dist)):\n",
    "        for j in range(len(dist)):\n",
    "            for k in range(len(dist)):\n",
    "                if(dist[j][i]+dist[i][k]<dist[j][k]):\n",
    "                    dist[j][k] = dist[j][i]+dist[i][k]\n",
    "    return dist"
   ]
  },
  {
   "cell_type": "code",
   "execution_count": 68,
   "metadata": {
    "collapsed": false
   },
   "outputs": [
    {
     "name": "stdout",
     "output_type": "stream",
     "text": [
      "Se abren los barrios  [1] con costo  39\n"
     ]
    }
   ],
   "source": [
    "punto1B(\"input_n5_k3_c\", 5)"
   ]
  },
  {
   "cell_type": "markdown",
   "metadata": {},
   "source": [
    "<h4> Análisis del tiempo de ejecución </h4>"
   ]
  },
  {
   "cell_type": "code",
   "execution_count": 69,
   "metadata": {
    "collapsed": true
   },
   "outputs": [],
   "source": [
    "class Counter:\n",
    "    '''\n",
    "    Class Counter\n",
    "    Implements a step counter, which is used to compute the number of basic operations performed in\n",
    "    a particular call to a function.\n",
    "    '''\n",
    "    def __init__(self):\n",
    "        self.steps = 0\n",
    "\n",
    "    def reset(self):\n",
    "        self.steps = 0\n",
    "\n",
    "    def count(self):\n",
    "        self.steps += 1\n",
    "\n",
    "    def print_steps(self):\n",
    "        print \"Número de pasos =\", self.steps\n",
    "        \n",
    "def acct_punto1B(nombre_archivo, acct, n):\n",
    "    dist = []\n",
    "    ids = []\n",
    "    nombres = []\n",
    "    costos = []\n",
    "    lista_comb = []\n",
    "    \n",
    "    archivo = open(nombre_archivo, \"r\"); acct.count()\n",
    "    \n",
    "    k = int(archivo.readline()); acct.count()\n",
    "    \n",
    "    for i in range (1,n):\n",
    "        li = archivo.readline(); acct.count()\n",
    "        linea = li.split(\" \"); acct.count()\n",
    "        nombres.append(linea[0]); acct.count()\n",
    "        ids.append(len(nombres)-1); acct.count()\n",
    "        costos.append(int(linea[1])); acct.count()\n",
    "        dist.append([]); acct.count()\n",
    "        for j in range(2,n+1):\n",
    "            dist[len(ids)-1].append(int(linea[j])); acct.count()\n",
    "    \n",
    "    for i in range(1,k+1):\n",
    "        comb = itertools.combinations(ids, i); acct.count()\n",
    "        list_comb = [list(x) for x in comb]; acct.count()\n",
    "        for j in list_comb:\n",
    "            lista_comb.append(j); acct.count()\n",
    "    \n",
    "    dist = floyd_warshall(dist)\n",
    "    \n",
    "    menor = 100000\n",
    "    abrir = []\n",
    "    for i in range(len(lista_comb)):        \n",
    "        cost = costo(lista_comb[i], len(ids), dist, costos); acct.count()\n",
    "        if (cost < menor):\n",
    "            menor = cost; acct.count()\n",
    "            abrir = lista_comb[i]; acct.count()\n",
    "            \n",
    "    output = open(nombre_archivo.replace(\"input\", \"output\"), \"w\")\n",
    "    \n",
    "    output.write(str(menor) + \"\\n\")\n",
    "    \n",
    "    for a in abrir:\n",
    "        output.write(nombres[a] + \",\")\n",
    "        \n",
    "    print \"Se abren los barrios \", abrir, \"con costo \", menor\n",
    "        \n",
    "def costo(combinacion, n, dist, costos):\n",
    "    total = 0\n",
    "    \n",
    "    for j in combinacion:\n",
    "        total += costos[j]; acct.count()\n",
    "    \n",
    "    for i in range(n):\n",
    "        menor = 100000\n",
    "        for j in combinacion:\n",
    "            if (dist[j][i] < menor):\n",
    "                menor = dist[j][i]; acct.count()\n",
    "        total = total + menor; acct.count()\n",
    "    return total\n",
    "\n",
    "def floyd_warshall(dist):    \n",
    "    for i in range(len(dist)):\n",
    "        for j in range(len(dist)):\n",
    "            for k in range(len(dist)):\n",
    "                if(dist[j][i]+dist[i][k]<dist[j][k]):\n",
    "                    dist[j][k] = dist[j][i]+dist[i][k]; acct.count()\n",
    "    return dist"
   ]
  },
  {
   "cell_type": "code",
   "execution_count": 70,
   "metadata": {
    "collapsed": false
   },
   "outputs": [
    {
     "name": "stdout",
     "output_type": "stream",
     "text": [
      "Se abren los barrios  [1] con costo  39\n",
      "Número de pasos = 247\n"
     ]
    }
   ],
   "source": [
    "acct = Counter()\n",
    "acct_punto1B(\"input_n5_k3_c\", acct, 5)\n",
    "acct.print_steps()"
   ]
  },
  {
   "cell_type": "markdown",
   "metadata": {},
   "source": [
    "<h4> Análisis experimental </h4>\n",
    "Se utilizará la misma entrada, cambiando el n desde 4 hasta 10."
   ]
  },
  {
   "cell_type": "code",
   "execution_count": 71,
   "metadata": {
    "collapsed": false
   },
   "outputs": [
    {
     "name": "stdout",
     "output_type": "stream",
     "text": [
      "Se abren los barrios  [1] con costo  60\n",
      "Se abren los barrios  [1, 3] con costo  77\n",
      "Se abren los barrios  [1, 3] con costo  97\n",
      "Se abren los barrios  [1, 3] con costo  127\n",
      "Se abren los barrios  [1, 3, 6] con costo  148\n",
      "Se abren los barrios  [1, 3, 7] con costo  168\n",
      "Se abren los barrios  [1, 3, 7] con costo  186\n",
      "[53, 82, 123, 172, 239, 320, 419]\n"
     ]
    }
   ],
   "source": [
    "def exper_analysis(n):\n",
    "    results = []\n",
    "    acct = Counter()\n",
    "    for i in range(4, n+1):\n",
    "        acct.reset()\n",
    "        acct_punto1B(\"input_n10_k3_c\", acct, i)\n",
    "        results.append(acct.steps)\n",
    "    return results\n",
    "\n",
    "print exper_analysis(10)"
   ]
  },
  {
   "cell_type": "code",
   "execution_count": 72,
   "metadata": {
    "collapsed": false
   },
   "outputs": [
    {
     "name": "stdout",
     "output_type": "stream",
     "text": [
      "Se abren los barrios  [1] con costo  60\n",
      "Se abren los barrios  [1, 3] con costo  77\n",
      "Se abren los barrios  [1, 3] con costo  97\n",
      "Se abren los barrios  [1, 3] con costo  127\n",
      "Se abren los barrios  [1, 3, 6] con costo  148\n",
      "Se abren los barrios  [1, 3, 7] con costo  168\n",
      "Se abren los barrios  [1, 3, 7] con costo  186\n",
      "[149.79999999997773, 116.0000000000494, 82.90000000004127, 131.10000000002842, 203.00000000004204, 316.0000000000274, 467.49999999997624]\n"
     ]
    }
   ],
   "source": [
    "import time\n",
    "\n",
    "def time_analysis(n):\n",
    "    results = []\n",
    "    for i in range(4, n+1):\n",
    "        tic = time.clock()\n",
    "        punto1B(\"input_n10_k3_c\", i)\n",
    "        toc = time.clock()\n",
    "        results.append((toc-tic)*100000)\n",
    "    return results\n",
    "\n",
    "print time_analysis(10)"
   ]
  },
  {
   "cell_type": "code",
   "execution_count": 77,
   "metadata": {
    "collapsed": false
   },
   "outputs": [
    {
     "name": "stdout",
     "output_type": "stream",
     "text": [
      "[22.180709777918249, 40.235947810852508, 64.503340892209977, 95.349597303710354, 133.08425866750949, 177.97519076423379, 230.25850929940458]\n"
     ]
    }
   ],
   "source": [
    "import random as rnd\n",
    "import numpy as np\n",
    "\n",
    "def teoric_analysis(n):\n",
    "    results = []\n",
    "    for i in range(4,n+1):\n",
    "        l = i*i*np.log(i)\n",
    "        results.append(l)\n",
    "    return results\n",
    "\n",
    "print teoric_analysis(10)"
   ]
  },
  {
   "cell_type": "code",
   "execution_count": 78,
   "metadata": {
    "collapsed": false
   },
   "outputs": [
    {
     "name": "stdout",
     "output_type": "stream",
     "text": [
      "Se abren los barrios  [1] con costo  60\n",
      "Se abren los barrios  [1, 3] con costo  77\n",
      "Se abren los barrios  [1, 3] con costo  97\n",
      "Se abren los barrios  [1, 3] con costo  127\n",
      "Se abren los barrios  [1, 3, 6] con costo  148\n",
      "Se abren los barrios  [1, 3, 7] con costo  168\n",
      "Se abren los barrios  [1, 3, 7] con costo  186\n",
      "Se abren los barrios  [1] con costo  60\n",
      "Se abren los barrios  [1, 3] con costo  77\n",
      "Se abren los barrios  [1, 3] con costo  97\n",
      "Se abren los barrios  [1, 3] con costo  127\n",
      "Se abren los barrios  [1, 3, 6] con costo  148\n",
      "Se abren los barrios  [1, 3, 7] con costo  168\n",
      "Se abren los barrios  [1, 3, 7] con costo  186\n"
     ]
    },
    {
     "data": {
      "text/plain": [
       "[<matplotlib.lines.Line2D at 0x7f4413c5ad90>]"
      ]
     },
     "execution_count": 78,
     "metadata": {},
     "output_type": "execute_result"
    },
    {
     "data": {
      "image/png": "[encoded data removed]",
      "text/plain": [
       "<matplotlib.figure.Figure at 0x7f4413d03310>"
      ]
     },
     "metadata": {},
     "output_type": "display_data"
    }
   ],
   "source": [
    "import pylab as pl\n",
    "%matplotlib inline\n",
    "\n",
    "pl.clf()\n",
    "x = np.arange(4,11)\n",
    "y = np.array(exper_analysis(10))\n",
    "pl.plot(x, y, 'k.', color ='r')\n",
    "z = np.array(teoric_analysis(10))\n",
    "pl.plot(x, z, 'k.', color='c')\n",
    "w = np.array(time_analysis(10))\n",
    "pl.plot(x, w, 'k.', color='g')"
   ]
  },
  {
   "cell_type": "markdown",
   "metadata": {},
   "source": [
    "<h2> Problema 2 - MST </h2>"
   ]
  },
  {
   "cell_type": "markdown",
   "metadata": {},
   "source": [
    " Dado un grafo G = (V, E) con n vertices y m aristas. (El grafo podría representar una red telefónica). Cada arista es coloreada azul o roja. Tambien esta dado un parámetro k como parte de la entrada. Proponga un algoritmo que encuentre un árbol de expansión sobre G con exactamente k aristas azules, y exactamente n-k-1 aristas rojas. "
   ]
  },
  {
   "cell_type": "markdown",
   "metadata": {},
   "source": [
    "<h4> Algoritmo propuesto </h4>"
   ]
  },
  {
   "cell_type": "code",
   "execution_count": 10,
   "metadata": {
    "collapsed": true
   },
   "outputs": [],
   "source": [
    "def punto2(nombre_archivo):\n",
    "    aristas = []\n",
    "    azules=[]\n",
    "    rojos=[]\n",
    "    destino=[]\n",
    "\n",
    "    archivo = open(nombre_archivo, \"r\")\n",
    "    \n",
    "    n = int(archivo.readline())\n",
    "    a=int(archivo.readline())\n",
    "    r=n-a-1\n",
    "    k=0\n",
    "    \n",
    "    for i in range(n):\n",
    "        destino.append(0)\n",
    "    \n",
    "    for i in archivo.readlines():\n",
    "        \n",
    "        linea = i.split(\" \")\n",
    "        \n",
    "        for j in range (0, len(linea)-1):\n",
    "            arista = {}\n",
    "            if linea[j] != \"Inf\":\n",
    "                info=linea[j].split(\"/\")\n",
    "                arista['origen'] = k\n",
    "                arista['destino'] = j+k\n",
    "                arista['peso'] = int(info[0])\n",
    "                arista['color'] = info[1]\n",
    "                aristas.append(arista)\n",
    "        k=k+1    \n",
    "    \n",
    "    aux=[]\n",
    "    for i in range(0, len(aristas)):\n",
    "        for j in range(i, len(aristas)):\n",
    "            if aristas[i]['peso']>aristas[j]['peso']:\n",
    "                aux=aristas[i]\n",
    "                aristas[i]=aristas[j]\n",
    "                aristas[j]=aux\n",
    "    \n",
    "    y=0\n",
    "    x=0\n",
    "    distancia=0\n",
    "    \n",
    "        \n",
    "    for ari in aristas:\n",
    "        if sum(destino) < n-1:\n",
    "            if ari['color'] == \"R\" and x < r:\n",
    "                distancia += ari['peso']\n",
    "                destino[ari['destino']] = 1\n",
    "                rojos.append((ari['origen'], ari['destino']))\n",
    "                x+=1\n",
    "            if ari['color'] == \"B\" and y < a:\n",
    "                distancia += ari['peso']\n",
    "                destino[ari['destino']] = 1\n",
    "                azules.append((ari['origen'], ari['destino']))\n",
    "                y+=1\n",
    "        \n",
    "    print (distancia, azules, rojos)\n",
    "    \n",
    "    output = open(nombre_archivo.replace(\"input\", \"output\"), \"w\")\n",
    "    \n",
    "    output.write(str(distancia) + \"\\n\")\n",
    "    for azul in azules:\n",
    "        output.write(str(azul))\n",
    "    output.write(\"\\n\")\n",
    "    for rojo in rojos:\n",
    "        output.write(str(rojo))"
   ]
  },
  {
   "cell_type": "code",
   "execution_count": 11,
   "metadata": {
    "collapsed": false,
    "scrolled": true
   },
   "outputs": [
    {
     "name": "stdout",
     "output_type": "stream",
     "text": [
      "(22, [(6, 7), (1, 3), (2, 6)], [(1, 5), (1, 2), (5, 7), (0, 2)])\n"
     ]
    }
   ],
   "source": [
    "punto2(\"input_n8_b3_r4\")"
   ]
  },
  {
   "cell_type": "markdown",
   "metadata": {
    "collapsed": true
   },
   "source": [
    "<h4> Análisis del tiempo de ejecución </h4>"
   ]
  },
  {
   "cell_type": "code",
   "execution_count": 12,
   "metadata": {
    "collapsed": true
   },
   "outputs": [],
   "source": [
    "class Counter:\n",
    "    '''\n",
    "    Class Counter\n",
    "    Implements a step counter, which is used to compute the number of basic operations performed in\n",
    "    a particular call to a function.\n",
    "    '''\n",
    "    def __init__(self):\n",
    "        self.steps = 0\n",
    "\n",
    "    def reset(self):\n",
    "        self.steps = 0\n",
    "\n",
    "    def count(self):\n",
    "        self.steps += 1\n",
    "\n",
    "    def print_steps(self):\n",
    "        print \"Número de pasos =\", self.steps\n",
    "\n",
    "        \n",
    "def acct_punto2(nombre_archivo, acct):\n",
    "    aristas = []\n",
    "    azules=[]\n",
    "    rojos=[]\n",
    "    destino=[]\n",
    "\n",
    "    archivo = open(nombre_archivo, \"r\"); acct.count()\n",
    "    \n",
    "    n = int(archivo.readline()); acct.count()\n",
    "    a=int(archivo.readline()); acct.count()\n",
    "    r=n-a-1; acct.count()\n",
    "    k=0\n",
    "    \n",
    "    for i in range(n):\n",
    "        destino.append(0)\n",
    "    \n",
    "    for i in archivo.readlines():        \n",
    "        linea = i.split(\" \"); acct.count()\n",
    "        \n",
    "        for j in range (0, len(linea)-1):\n",
    "            arista = {}\n",
    "            if linea[j] != \"Inf\":\n",
    "                info=linea[j].split(\"/\"); acct.count()\n",
    "                arista['origen'] = k; acct.count()\n",
    "                arista['destino'] = j+k; acct.count()\n",
    "                arista['peso'] = int(info[0]); acct.count()\n",
    "                arista['color'] = info[1]; acct.count()\n",
    "                aristas.append(arista); acct.count()\n",
    "        k=k+1; acct.count()\n",
    "    \n",
    "    aux=[]\n",
    "    for i in range(0, len(aristas)):\n",
    "        for j in range(i, len(aristas)):\n",
    "            if aristas[i]['peso']>aristas[j]['peso']:\n",
    "                aux=aristas[i]; acct.count()\n",
    "                aristas[i]=aristas[j]; acct.count()\n",
    "                aristas[j]=aux; acct.count()\n",
    "    \n",
    "    y=0\n",
    "    x=0\n",
    "    distancia=0\n",
    "    \n",
    "        \n",
    "    for ari in aristas:\n",
    "        if sum(destino) < n-1:\n",
    "            if ari['color'] == \"R\" and x < r:\n",
    "                distancia += ari['peso']; acct.count()\n",
    "                destino[ari['destino']] = 1; acct.count()\n",
    "                rojos.append((ari['origen'], ari['destino'])); acct.count()\n",
    "                x+=1; acct.count()\n",
    "            if ari['color'] == \"B\" and y < a:\n",
    "                distancia += ari['peso']; acct.count()\n",
    "                destino[ari['destino']] = 1; acct.count()\n",
    "                azules.append((ari['origen'], ari['destino'])); acct.count()\n",
    "                y+=1; acct.count()\n",
    "        \n",
    "    print (distancia, azules, rojos)\n",
    "    \n",
    "    output = open(nombre_archivo.replace(\"input\", \"output\"), \"w\")\n",
    "    \n",
    "    output.write(str(distancia) + \"\\n\")\n",
    "    for azul in azules:\n",
    "        output.write(str(azul))\n",
    "    output.write(\"\\n\")\n",
    "    for rojo in rojos:\n",
    "        output.write(str(rojo))"
   ]
  },
  {
   "cell_type": "code",
   "execution_count": 13,
   "metadata": {
    "collapsed": false
   },
   "outputs": [
    {
     "name": "stdout",
     "output_type": "stream",
     "text": [
      "(22, [(6, 7), (1, 3), (2, 6)], [(1, 5), (1, 2), (5, 7), (0, 2)])\n",
      "Número de pasos = 198\n"
     ]
    }
   ],
   "source": [
    "acct = Counter()\n",
    "acct_punto2(\"input_n8_b3_r4\", acct)\n",
    "acct.print_steps()"
   ]
  },
  {
   "cell_type": "markdown",
   "metadata": {},
   "source": [
    "<h4> Análisis experimental </h4>\n",
    "Se utilizará la misma entrada, cambiando el n desde 5 hasta 10."
   ]
  },
  {
   "cell_type": "code",
   "execution_count": 14,
   "metadata": {
    "collapsed": false
   },
   "outputs": [
    {
     "name": "stdout",
     "output_type": "stream",
     "text": [
      "(14, [(3, 4), (0, 1), (0, 2)], [(2, 4)])\n",
      "(16, [(4, 5), (0, 4), (1, 5)], [(3, 5)])\n",
      "(17, [(5, 6), (0, 2), (1, 5)], [(0, 4), (0, 1), (4, 6)])\n",
      "(22, [(6, 7), (1, 3), (2, 6)], [(1, 5), (1, 2), (5, 7), (0, 2)])\n",
      "(24, [(7, 8), (2, 4), (0, 3)], [(2, 6), (2, 3), (0, 4), (0, 2), (6, 8)])\n",
      "(26, [(8, 9), (3, 5), (0, 5), (1, 4)], [(3, 7), (1, 5), (3, 4), (0, 3), (1, 3)])\n",
      "[84, 95, 156, 198, 237, 333]\n"
     ]
    }
   ],
   "source": [
    "def exper_analysis(n):\n",
    "    results = []\n",
    "    acct = Counter()\n",
    "    for i in range(5, n+1):\n",
    "        acct.reset()\n",
    "        acct_punto2(\"input_n\" + str(i) +\"_b3\" + \"_r\" + str(i-3-1), acct)\n",
    "        results.append(acct.steps)\n",
    "    return results\n",
    "\n",
    "print exper_analysis(10)"
   ]
  },
  {
   "cell_type": "code",
   "execution_count": 25,
   "metadata": {
    "collapsed": false
   },
   "outputs": [
    {
     "name": "stdout",
     "output_type": "stream",
     "text": [
      "(14, [(3, 4), (0, 1), (0, 2)], [(2, 4)])\n",
      "(16, [(4, 5), (0, 4), (1, 5)], [(3, 5)])\n",
      "(17, [(5, 6), (0, 2), (1, 5)], [(0, 4), (0, 1), (4, 6)])\n",
      "(22, [(6, 7), (1, 3), (2, 6)], [(1, 5), (1, 2), (5, 7), (0, 2)])\n",
      "(24, [(7, 8), (2, 4), (0, 3)], [(2, 6), (2, 3), (0, 4), (0, 2), (6, 8)])\n",
      "(26, [(8, 9), (3, 5), (0, 5), (1, 4)], [(3, 7), (1, 5), (3, 4), (0, 3), (1, 3)])\n",
      "[1172.000000000395, 248.00000000002598, 225.0000000003638, 210.00000000004349, 227.99999999989495, 248.99999999927758]\n"
     ]
    }
   ],
   "source": [
    "import time\n",
    "\n",
    "def time_analysis(n):\n",
    "    results = []\n",
    "    for i in range(5, n+1):\n",
    "        tic = time.clock()\n",
    "        punto2(\"input_n\" + str(i) +\"_b3\" + \"_r\" + str(i-3-1))\n",
    "        toc = time.clock()\n",
    "        results.append((toc-tic)*1000000)\n",
    "    return results\n",
    "\n",
    "print time_analysis(10)"
   ]
  },
  {
   "cell_type": "code",
   "execution_count": 30,
   "metadata": {
    "collapsed": false
   },
   "outputs": [
    {
     "name": "stdout",
     "output_type": "stream",
     "text": [
      "[40.235947810852508, 64.503340892209977, 95.349597303710354, 133.08425866750949, 177.97519076423379, 230.25850929940458]\n"
     ]
    }
   ],
   "source": [
    "import random as rnd\n",
    "import numpy as np\n",
    "\n",
    "def teoric_analysis(n):\n",
    "    results = []\n",
    "    for i in range(5,n+1):\n",
    "        l = i*i*np.log(i)\n",
    "        results.append(l)\n",
    "    return results\n",
    "\n",
    "print teoric_analysis(10)"
   ]
  },
  {
   "cell_type": "code",
   "execution_count": 31,
   "metadata": {
    "collapsed": false
   },
   "outputs": [
    {
     "name": "stdout",
     "output_type": "stream",
     "text": [
      "(14, [(3, 4), (0, 1), (0, 2)], [(2, 4)])\n",
      "(16, [(4, 5), (0, 4), (1, 5)], [(3, 5)])\n",
      "(17, [(5, 6), (0, 2), (1, 5)], [(0, 4), (0, 1), (4, 6)])\n",
      "(22, [(6, 7), (1, 3), (2, 6)], [(1, 5), (1, 2), (5, 7), (0, 2)])\n",
      "(24, [(7, 8), (2, 4), (0, 3)], [(2, 6), (2, 3), (0, 4), (0, 2), (6, 8)])\n",
      "(26, [(8, 9), (3, 5), (0, 5), (1, 4)], [(3, 7), (1, 5), (3, 4), (0, 3), (1, 3)])\n",
      "(14, [(3, 4), (0, 1), (0, 2)], [(2, 4)])\n",
      "(16, [(4, 5), (0, 4), (1, 5)], [(3, 5)])\n",
      "(17, [(5, 6), (0, 2), (1, 5)], [(0, 4), (0, 1), (4, 6)])\n",
      "(22, [(6, 7), (1, 3), (2, 6)], [(1, 5), (1, 2), (5, 7), (0, 2)])\n",
      "(24, [(7, 8), (2, 4), (0, 3)], [(2, 6), (2, 3), (0, 4), (0, 2), (6, 8)])\n",
      "(26, [(8, 9), (3, 5), (0, 5), (1, 4)], [(3, 7), (1, 5), (3, 4), (0, 3), (1, 3)])\n"
     ]
    },
    {
     "data": {
      "text/plain": [
       "[<matplotlib.lines.Line2D at 0x7f8e86918c90>]"
      ]
     },
     "execution_count": 31,
     "metadata": {},
     "output_type": "execute_result"
    },
    {
     "data": {
      "image/png": "[encoded data removed]",
      "text/plain": [
       "<matplotlib.figure.Figure at 0x7f8e86bb6090>"
      ]
     },
     "metadata": {},
     "output_type": "display_data"
    }
   ],
   "source": [
    "import pylab as pl\n",
    "%matplotlib inline\n",
    "\n",
    "pl.clf()\n",
    "x = np.arange(5,11)\n",
    "y = np.array(exper_analysis(10))\n",
    "pl.plot(x, y, 'k.', color ='r')\n",
    "z = np.array(teoric_analysis(10))\n",
    "pl.plot(x, z, 'k.', color='c')\n",
    "w = np.array(time_analysis(10))\n",
    "pl.plot(x, w, 'k.', color='g')"
   ]
  }
 ],
 "metadata": {
  "anaconda-cloud": {},
  "kernelspec": {
   "display_name": "Python 2",
   "language": "python",
   "name": "python2"
  },
  "language_info": {
   "codemirror_mode": {
    "name": "ipython",
    "version": 2
   },
   "file_extension": ".py",
   "mimetype": "text/x-python",
   "name": "python",
   "nbconvert_exporter": "python",
   "pygments_lexer": "ipython2",
   "version": "2.7.12"
  }
 },
 "nbformat": 4,
 "nbformat_minor": 1
}
