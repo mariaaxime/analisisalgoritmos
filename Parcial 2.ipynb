{
 "cells": [
  {
   "cell_type": "markdown",
   "metadata": {},
   "source": [
    "<h2>Parcial 2 - María Ximena Acuña</h2>"
   ]
  },
  {
   "cell_type": "markdown",
   "metadata": {},
   "source": [
    "<h3>1. Es posible transformar algorithm en analysis sin usar operaciones “izquierda”. Escriba una secuencia de operaciones (de la misma forma que la tabla de ejemplo) que tenga el mismo costo que el mostrado en el ejemplo, pero sin usar operaciones “izquierda”. </h3>"
   ]
  },
  {
   "cell_type": "markdown",
   "metadata": {},
   "source": [
    "<table>\n",
    "  <tr>\n",
    "    <th>Operación</th>\n",
    "    <th>Z</th>\n",
    "    <th>Costo</th>\n",
    "    <th>Total</th>\n",
    "  </tr>\n",
    "  <tr>\n",
    "    <td>Inicio</td>\n",
    "    <td>algorithm</td>\n",
    "    <td>0</td>\n",
    "    <td>0</td>\n",
    "  </tr>\n",
    "  <tr>\n",
    "    <td>Derecha</td>\n",
    "    <td>algorithm</td>\n",
    "    <td>0</td>\n",
    "    <td>0</td>\n",
    "  </tr>\n",
    "    <tr>\n",
    "    <td>Reemplazar (l,n)</td>\n",
    "    <td>angorithm</td>\n",
    "    <td>4</td>\n",
    "    <td>4</td>\n",
    "  </tr>\n",
    "  <tr>\n",
    "    <td>Reemplazar (g,a)</td>\n",
    "    <td>anaorithm</td>\n",
    "    <td>4</td>\n",
    "    <td>8</td>\n",
    "  </tr>\n",
    "  <tr>\n",
    "    <td>Reemplazar (o,l)</td>\n",
    "    <td>analrithm</td>\n",
    "    <td>4</td>\n",
    "    <td>12</td>\n",
    "  </tr>\n",
    "  <tr>\n",
    "    <td>Reemplazar (r,y)</td>\n",
    "    <td>analyithm</td>\n",
    "    <td>4</td>\n",
    "    <td>16</td>\n",
    "  </tr>\n",
    "  <tr>\n",
    "    <td>Insertar (s)</td>\n",
    "    <td>analysithm</td>\n",
    "    <td>3</td>\n",
    "    <td>19</td>\n",
    "  </tr>\n",
    "  <tr>\n",
    "    <td>Derecha</td>\n",
    "    <td>analysithm</td>\n",
    "    <td>0</td>\n",
    "    <td>19</td>\n",
    "  </tr>\n",
    "  <tr>\n",
    "    <td>Insertar (s)</td>\n",
    "    <td>analysisthm</td>\n",
    "    <td>3</td>\n",
    "    <td>22</td>\n",
    "  </tr>\n",
    "  <tr>\n",
    "    <td>Eliminar (t)</td>\n",
    "    <td>analysishm</td>\n",
    "    <td>2</td>\n",
    "    <td>24</td>\n",
    "  </tr>\n",
    "  <tr>\n",
    "    <td>Eliminar (h)</td>\n",
    "    <td>analysism</td>\n",
    "    <td>2</td>\n",
    "    <td>26</td>\n",
    "  </tr>\n",
    "  <tr>\n",
    "    <td>Eliminar (m)</td>\n",
    "    <td>analysis</td>\n",
    "    <td>2</td>\n",
    "    <td>28</td>\n",
    "  </tr>\n",
    "</table>"
   ]
  },
  {
   "cell_type": "markdown",
   "metadata": {},
   "source": [
    "<h3>2.\tMuestre que para dos cadenas x y con distancia de edición d(x, y), existe una secuencia S de operaciones que transforman x en y con costo d(x, y) donde S no contiene operaciones “izquierda”.</h3>"
   ]
  },
  {
   "cell_type": "markdown",
   "metadata": {},
   "source": [
    "La demostración se hará por medio de una contradicción, suponiendo que esa secuencia S que no contiene operaciones “izquierda” no existe. \n",
    "Se tiene una secuencia T que transforma x en y con costo d(x,y) y sí contiene operaciones izquierda. Se consideran los siguientes casos:\n",
    "\n",
    "-\tCuando se realiza una operación de inserción en la secuencia T, si ese carácter se inserta y luego se elimina (insertar – izquierda – eliminar), se podría tener una secuencia R a menor costo que la secuencia T que haga la misma transformación (debido a que insertar un carácter y luego eliminarlo es lo mismo que no hacer nada).\n",
    "-\tCuando se realiza una operación de reemplazo en la secuencia T, si ese carácter luego se reemplaza de nuevo (reemplazar – izquierda – reemplazar), se podría tener una secuencia R a menor costo que la secuencia T que haga la misma transformación (sólo haciendo el último reemplazo y evitando el costo del primero).\n",
    "\n",
    "\n",
    "De modo que, si se realiza una inserción o un reemplazo, no es necesario realizar la operación izquierda para realizar otra operación que “sobreescriba” la primera que se hizo. Esto quiere decir que todas las operaciones de transformación se pueden hacer siempre hacia la derecha a un menor costo.\n"
   ]
  },
  {
   "cell_type": "markdown",
   "metadata": {},
   "source": [
    "<h3>3.\tMuestre que el problema de calcular la distancia de edición d(x, y) presenta una subestructura óptima. (Considere todos los sufijos de x y y).</h3>"
   ]
  },
  {
   "cell_type": "markdown",
   "metadata": {},
   "source": [
    "La demostración se hará por medio de una contradicción, suponiendo una subestructura no óptima.\n",
    "\n",
    "Se tiene una secuencia S considerada una subestructura óptima de operaciones que transforman x’ (cadena parcial de x) en y’ (cadena parcial de y) con un costo C. Se asume que hay una secuencia T que hace la misma transformación con un costo C’ < C. Si la transformación restante se hiciera con un costo D, el costo total de la secuencia S sería C+D, mientras que el de la secuencia T sería C’+D, donde C’+D < C+D. \n",
    "\n",
    "Esto contradice la suposición inicial de que S era una subestructura óptima debido a que existe una subestructura T con menor costo, la cual sí representa una subestructura óptima."
   ]
  },
  {
   "cell_type": "markdown",
   "metadata": {},
   "source": [
    "<h3>4.\tRecursivamente defina el valor de la distancia de edición d(x, y) en términos de los sufijos de las cadenas x y y. Señale como la distancia de edición contiene sobrelapamiento de los subproblemas. </h3>"
   ]
  },
  {
   "cell_type": "markdown",
   "metadata": {},
   "source": [
    "Sabemos que la distancia de edición corresponde a la posición c[n,m] de la matriz de costos. Se consideran las operaciones insertar, reemplazar, eliminar y derecha, cada una con su costo respectivo. \n",
    "Recursivamente, el costo c[i,j] corresponde a:\n",
    "\n",
    "- Se tiene un caso base $c[i,j]$ = 0 si $i=0$ y $j=0$.\n",
    "\n",
    "\n",
    "$$ c[i,j] = min \\left \\{ \\begin{matrix} c[i-1][j-1] & \\mbox{si }i>0\\mbox{ y }j>0\\mbox{ y }x[i-1]\\mbox{ = }y[j-1] & \\\\ c[i-1][j-1] + 4 & \\mbox{si }i>0\\mbox{ y }j>0 \\\\ c[i-1][j] + 2 & \\mbox{si }i>0\\\\ c[i][j-1] + 3 & \\mbox{si }j>0 \\end{matrix}\\right. $$\n",
    "\n",
    "Los problemas se sobrelapan porque por ejemplo, para calcular $ c[i,j] $, $ c[i-1,j] $ y $ c[i,j-1] $ se requiere calcular también $ c[i-1,j-1] $."
   ]
  },
  {
   "cell_type": "markdown",
   "metadata": {},
   "source": [
    "<h3>5.\tDescriba un algoritmo de programación dinámica que calcule la distancia de edición de x y y (No use memorización). Analice el tiempo de ejecución y el espacio requeridos por su algoritmo.</h3>"
   ]
  },
  {
   "cell_type": "markdown",
   "metadata": {},
   "source": [
    "Se tiene una matriz $M[][]$ donde $M[i][j]$ = $c[i][j]$ donde $c[i][j]$ depende de todos los $c[i'][j']$ anteriores. El costo $c[i][j]$ se calcula utilizando la ecuación del punto anterior. \n",
    "\n",
    "- Pseudocódigo:\n",
    "\n",
    "$\\hspace{1cm}$M[0][0] = 0\n",
    "\n",
    "$\\hspace{1cm}$for i=0 to n \n",
    "\n",
    "$\\hspace{1cm}$$\\hspace{1cm}$for j=0 to m\n",
    "\n",
    "$\\hspace{1cm}$$\\hspace{1cm}$$\\hspace{1cm}$calcular c[i][j] $\\rightarrow$ Ecuación del punto anterior\n",
    "\n",
    "$\\hspace{1cm}$$\\hspace{1cm}$ end for\n",
    "\n",
    "$\\hspace{1cm}$end for\n",
    "\n",
    "$\\hspace{1cm}$return c[n][m]\n",
    "\n",
    "El tiempo de ejecucion del algoritmo es de $\\theta$(nm) y requiere espacio de $\\theta$(nm). Ésto debido a que llena la matriz para todos los elementos de cada cadena."
   ]
  },
  {
   "cell_type": "markdown",
   "metadata": {},
   "source": [
    "<h3>6.\tImplemente su algoritmo en Python, y publiquelo en un NoteBook donde lo pruebe para las cadenas: x = software engineering, y = computer science.</h3>"
   ]
  },
  {
   "cell_type": "code",
   "execution_count": 30,
   "metadata": {
    "collapsed": false
   },
   "outputs": [],
   "source": [
    "def main(nombre):\n",
    "    archivo = open(nombre, \"r\")\n",
    "    matriz = []\n",
    "\n",
    "    n = int(archivo.readline())\n",
    "    x = archivo.readline()\n",
    "    m = int(archivo.readline())\n",
    "    y = archivo.readline()\n",
    "\n",
    "    print \"X:\",x,\"N:\",n,\"\\nY:\",y,\"M:\",m\n",
    "\n",
    "    matriz = []\n",
    "\n",
    "    for i in range(n+1):\n",
    "        matriz.append([])        \n",
    "        for j in range(m+1):\n",
    "            matriz[i].append(0)\n",
    "\n",
    "    for i in range(n+1):\n",
    "        matriz[i][0] = i*2\n",
    "\n",
    "    for j in range(m+1):\n",
    "        matriz[0][j] = j*3\n",
    "\n",
    "    for i in range(1,n+1):\n",
    "        for j in range(1,m+1):\n",
    "            if (x[i-1] == y[j-1]):\n",
    "                matriz[i][j] = matriz[i-1][j-1]\n",
    "            else:\n",
    "                matriz[i][j] = min(matriz[i-1][j-1]+4, min(matriz[i-1][j]+2, matriz[i][j-1]+3))\n",
    "        \n",
    "    return matriz[n][m]"
   ]
  },
  {
   "cell_type": "markdown",
   "metadata": {},
   "source": [
    "El archivo \"casos.txt\" contiene:\n",
    "\n",
    "20\n",
    "software engineering\n",
    "16\n",
    "computer science\n",
    "\n",
    "Separados por enter."
   ]
  },
  {
   "cell_type": "code",
   "execution_count": 31,
   "metadata": {
    "collapsed": false
   },
   "outputs": [
    {
     "name": "stdout",
     "output_type": "stream",
     "text": [
      "X: software engineering\n",
      "N: 20 \n",
      "Y: computer science M: 16\n",
      "\n",
      "Distancia de edicion:  47\n"
     ]
    }
   ],
   "source": [
    "dist = main(\"casos.txt\")\n",
    "print \"\\nDistancia de edicion: \",dist"
   ]
  },
  {
   "cell_type": "markdown",
   "metadata": {},
   "source": [
    "<h3>7.\tEjecute su programa para las tres instancias provistas en 3 archivos de texto plano, donde cada archivo contiene las siguientes cuatro líneas:(a) El número de caracteres m en la cadena x.\n",
    "(b) La cadena x\n",
    "(c) El número de caracteres n en la cadena y.\n",
    "(d) La cadena y </h3>"
   ]
  },
  {
   "cell_type": "code",
   "execution_count": 32,
   "metadata": {
    "collapsed": false
   },
   "outputs": [
    {
     "name": "stdout",
     "output_type": "stream",
     "text": [
      "X: In fairy-tales, witches always wear silly black hats and black cloaks, and they ride on broomsticks.  But this is not a fairy-tale. This is about Real Witches.  The most important thing you should know about Real Witches is this.  Listen very carefully.  Never forget what is coming next.  Real Witches dress in ordinary clothes and look very much like ordinary women. They live in ordinary houses and work in Ordinary Jobs.  That is why they are so hard to catch.  A Real Witch hates children with a red-hot sizzling hatred that is more sizzling and red-hot than any hatred you could possibly imagine.\n",
      "N: 602 \n",
      "Y: Round about the caldron go; In the poison'd entrails throw.  Toad, that under cold stone, Days and nights has thirty-one; Swelter'd venom sleeping got, Boil thou first i' the charmed pot!  Double, double toil and trouble; Fire burn, and cauldron bubble.  Fillet of a fenny snake, In the caldron boil and bake; Eye of newt, and toe of frog, Wool of bat, and tongue of dog; Adder's fork, and blind-worm's sting, Lizard's leg, and howlet's wing; For a charm of pow'rful trouble, Like a hell-broth boil and bubble.  Double, double toil and trouble; Fire burn, and cauldron bubble.  Scale of dragon, tooth of wolf, Witches' mummy, maw and gulf Of the ravin'd salt-sea shark; Root of hemlock digg'd i' the dark.\n",
      "M: 705\n",
      "\n",
      "Distancia de edicion:  1816\n"
     ]
    }
   ],
   "source": [
    "dist = main(\"ps7_input1.txt\")\n",
    "print \"\\nDistancia de edicion: \",dist"
   ]
  },
  {
   "cell_type": "code",
   "execution_count": 33,
   "metadata": {
    "collapsed": false
   },
   "outputs": [
    {
     "name": "stdout",
     "output_type": "stream",
     "text": [
      "X: Macavity, Macavity, there's no one like Macavity, He's broken every  human law, he breaks the law of gravity.  His powers of levitation  would make a fakir stare, And when you reach the scene of crime -  Macavity's not there!  You may seek him in the basement, you may look  up in the air - But I tell you once and once again, Macavity's not there!  Macavity's a ginger cat, he's very tall and thin; You would know him if you saw him, for his eyes are sunken in.  His brow is deeply lined with thought, his head is highly domed; His coat is dusty from neglect, his whiskers are uncombed.  He sways his head from side to side, with movements like a snake; And when you think he's half asleep, he's always wide awake.\n",
      "N: 715 \n",
      "Y: `Please would you tell me,' said Alice, a little timidly, for she was not quite sure whether it was good manners for her to speak first, `why your cat grins like that?' `It's a Cheshire cat,' said the Duchess, `and that's why. Pig!'  She said the last word with such sudden violence that Alice quite jumped; but she saw in another moment that it was addressed to the baby, and not to her, so she took courage, and went on again:  `I didn't know that Cheshire cats always grinned; in fact, I didn't know that cats could grin.'  `They all can,' said the Duchess; `and most of 'em do.'  `I don't know of any that do,' Alice said very politely, feeling quite pleased to have got into a conversation.\n",
      "M: 695\n",
      "\n",
      "Distancia de edicion:  1824\n"
     ]
    }
   ],
   "source": [
    "dist = main(\"ps7_input2.txt\")\n",
    "print \"\\nDistancia de edicion: \",dist"
   ]
  },
  {
   "cell_type": "code",
   "execution_count": 34,
   "metadata": {
    "collapsed": false
   },
   "outputs": [
    {
     "name": "stdout",
     "output_type": "stream",
     "text": [
      "X: Old MacDonald had a farm, Ee i ee i o.  And on his farm he had some chicks, Ee i ee i o.  With a cluck-cluck here and a cluck-cluck there.  Here a cluck, there a cluck everywhere a cluck-cluck. Old MacDonald had a farm, Ee i ee i o.  Old MacDonald had a farm, Ee i ee i o.  And on his farm he had some cows, Ee i ee i o.  With a moo-moo here and a moo-moo there.  Here a moo, there a moo everywhere a moo-moo.  Old MacDonald had a farm, Ee i ee i o.\n",
      "N: 449 \n",
      "Y: At one end of the big barn, on a sort of raised platform, Major was already ensconced on his bed of straw, under a lantern which hung from a beam. He was twelve years old and had lately grown rather stout, but he was still a majestic-looking pig, with a wise and benevolent appearance in spite of the fact that his tushes had never been cut.  Before long the other animals began to arrive and make themselves comfortable after their different fashions.  First came the three dogs, Bluebell, Jessie, and Pincher, and then the pigs, who settled down in the straw immediately in front of the platform.  The hens perched themselves on the window-sills, the pigeons fluttered up to the rafters, the sheep and cows lay down behind the pigs and began to chew the cud.\n",
      "M: 760\n",
      "\n",
      "Distancia de edicion:  1829\n"
     ]
    }
   ],
   "source": [
    "dist = main(\"ps7_input3.txt\")\n",
    "print \"\\nDistancia de edicion: \",dist"
   ]
  }
 ],
 "metadata": {
  "anaconda-cloud": {},
  "kernelspec": {
   "display_name": "Python [default]",
   "language": "python",
   "name": "python2"
  },
  "language_info": {
   "codemirror_mode": {
    "name": "ipython",
    "version": 2
   },
   "file_extension": ".py",
   "mimetype": "text/x-python",
   "name": "python",
   "nbconvert_exporter": "python",
   "pygments_lexer": "ipython2",
   "version": "2.7.12"
  }
 },
 "nbformat": 4,
 "nbformat_minor": 1
}
