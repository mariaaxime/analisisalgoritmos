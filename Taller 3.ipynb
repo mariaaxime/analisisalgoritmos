{
 "cells": [
  {
   "cell_type": "code",
   "execution_count": 690,
   "metadata": {
    "collapsed": true
   },
   "outputs": [],
   "source": [
    "import math\n",
    "import numpy as np\n",
    "import pylab as pl\n",
    "%matplotlib inline"
   ]
  },
  {
   "cell_type": "markdown",
   "metadata": {},
   "source": [
    "<h4> Clase contador del número de operaciones </h4>"
   ]
  },
  {
   "cell_type": "code",
   "execution_count": 691,
   "metadata": {
    "collapsed": false
   },
   "outputs": [],
   "source": [
    "class Counter:\n",
    "    '''\n",
    "    Class Counter\n",
    "    Implements a step counter, which is used to compute the number of basic operations performed in\n",
    "    a particular call to a function.\n",
    "    '''\n",
    "    def __init__(self):\n",
    "        self.steps = 0\n",
    "\n",
    "    def reset(self):\n",
    "        self.steps = 0\n",
    "\n",
    "    def count(self):\n",
    "        self.steps += 1\n",
    "\n",
    "    def print_steps(self):\n",
    "        print (\"Number of steps =\", self.steps)\n"
   ]
  },
  {
   "cell_type": "markdown",
   "metadata": {},
   "source": [
    "<h3>Multiplicación de matrices en tiempo O(n^3)</h3>"
   ]
  },
  {
   "cell_type": "code",
   "execution_count": 692,
   "metadata": {
    "collapsed": false
   },
   "outputs": [],
   "source": [
    "def multiplicacion(A,B, acct):\n",
    "    A = np.array(A)\n",
    "    B = np.array(B)\n",
    "    C = np.zeros((len(A), len(A)))\n",
    "    \n",
    "    for i in range(0,len(A)):\n",
    "        for j in range(0,len(B)):\n",
    "            for k in range(0,len(A)):\n",
    "                C[i,j] += A[i,k] * B[k,j]; acct.count()\n",
    "    return C\n",
    "    "
   ]
  },
  {
   "cell_type": "code",
   "execution_count": 693,
   "metadata": {
    "collapsed": false
   },
   "outputs": [
    {
     "name": "stdout",
     "output_type": "stream",
     "text": [
      "[[ 21.  67.  78.]\n",
      " [ 24.  46.  66.]\n",
      " [ 27.  33.  54.]]\n",
      "Number of steps = 27\n"
     ]
    }
   ],
   "source": [
    "A = np.random.randint(10, size=(3,3))\n",
    "B = np.random.randint(10, size=(3,3))\n",
    "acct = Counter()\n",
    "C = multiplicacion(A,B, acct)\n",
    "print (C)\n",
    "acct.print_steps()"
   ]
  },
  {
   "cell_type": "markdown",
   "metadata": {},
   "source": [
    "<h3>Multiplicación de matrices dividir y conquistar</h3>"
   ]
  },
  {
   "cell_type": "code",
   "execution_count": 694,
   "metadata": {
    "collapsed": false
   },
   "outputs": [],
   "source": [
    "def divide_venceras(matriz1, matriz2, acct):\n",
    "    matriz1 = np.array(matriz1)\n",
    "    matriz2 = np.array(matriz2)\n",
    "    \n",
    "    acct.count();\n",
    "    if(len(matriz1) % 2 != 0):\n",
    "        matriz1 = np.insert(matriz1, len(matriz1), 0, axis=1)\n",
    "        matriz1 = np.insert(matriz1, len(matriz1), 0, axis=0)\n",
    "        matriz2 = np.insert(matriz2, len(matriz2), 0, axis=1)\n",
    "        matriz2 = np.insert(matriz2, len(matriz2), 0, axis=0)\n",
    "    \n",
    "    acct.count();\n",
    "    if(len(matriz1) == 2):\n",
    "        a = matriz1[0,0]\n",
    "        b = matriz1[0,1]\n",
    "        c = matriz1[1,0]\n",
    "        d = matriz1[1,1]\n",
    "        e = matriz2[0,0]\n",
    "        f = matriz2[0,1]\n",
    "        g = matriz2[1,0]\n",
    "        h = matriz2[1,1]\n",
    "        acct.count()\n",
    "        return np.vstack((np.hstack((a*e+b*g, a*f+b*h)), np.hstack((c*e+d*g, c*f+d*h))))\n",
    "        \n",
    "        \n",
    "    a, b, c, d = dividir(matriz1, acct); acct.count();\n",
    "    e, f, g, h = dividir(matriz2, acct); acct.count();\n",
    "    \n",
    "    izqsup = divide_venceras(a,e, acct) + divide_venceras(b,g, acct); acct.count();\n",
    "    izqinf = divide_venceras(c,e, acct) + divide_venceras(d,g, acct); acct.count();\n",
    "    dersup = divide_venceras(a,f, acct) + divide_venceras(b,h, acct); acct.count();\n",
    "    derinf = divide_venceras(c,f, acct) + divide_venceras(d,h, acct); acct.count();\n",
    "    \n",
    "    return np.vstack((np.hstack((izqsup, dersup)), np.hstack((izqinf, derinf))))\n",
    "\n",
    "def dividir(matriz, acct):\n",
    "    \n",
    "    tam = int((len(matriz))/2)\n",
    "    a = matriz[0:tam, 0:tam]\n",
    "    b = matriz[0:tam, tam:]\n",
    "    c = matriz[tam:, 0:tam]\n",
    "    d = matriz[tam:,tam:]\n",
    "    return a, b, c, d\n",
    "\n"
   ]
  },
  {
   "cell_type": "code",
   "execution_count": 695,
   "metadata": {
    "collapsed": false
   },
   "outputs": [
    {
     "name": "stdout",
     "output_type": "stream",
     "text": [
      "[[109  73 123   0]\n",
      " [110  76 109   0]\n",
      " [ 71  43  94   0]\n",
      " [  0   0   0   0]]\n",
      "Number of steps = 32\n"
     ]
    }
   ],
   "source": [
    "A = np.random.randint(10, size=(3, 3))\n",
    "B = np.random.randint(10, size=(3, 3))\n",
    "acct = Counter()\n",
    "C = divide_venceras(A,B, acct)\n",
    "print(C)\n",
    "acct.print_steps()"
   ]
  },
  {
   "cell_type": "markdown",
   "metadata": {},
   "source": [
    "<h3>Multiplicación de matrices utilizando algoritmo de Strassen</h3>"
   ]
  },
  {
   "cell_type": "code",
   "execution_count": 696,
   "metadata": {
    "collapsed": true
   },
   "outputs": [],
   "source": [
    "def strassen(matriz1, matriz2, acct):\n",
    "    matriz1 = np.array(matriz1)\n",
    "    matriz2 = np.array(matriz2)\n",
    "    \n",
    "    if(len(matriz1) % 2 != 0):\n",
    "        matriz1 = np.insert(matriz1, len(matriz1), 0, axis=1)\n",
    "        matriz1 = np.insert(matriz1, len(matriz1), 0, axis=0)\n",
    "        matriz2 = np.insert(matriz2, len(matriz2), 0, axis=1)\n",
    "        matriz2 = np.insert(matriz2, len(matriz2), 0, axis=0)\n",
    "        \n",
    "    if(len(matriz1) == 2):\n",
    "        a = matriz1[0,0]\n",
    "        b = matriz1[0,1]\n",
    "        c = matriz1[1,0]\n",
    "        d = matriz1[1,1]\n",
    "        e = matriz2[0,0]\n",
    "        f = matriz2[0,1]\n",
    "        g = matriz2[1,0]\n",
    "        h = matriz2[1,1]\n",
    "        p1 = a*(f-h); acct.count()\n",
    "        p2 = (a+b)*h; acct.count()\n",
    "        p3 = (c+d)*e; acct.count()\n",
    "        p4 = d*(g-e); acct.count()\n",
    "        p5 = (a+d)*(e+h); acct.count()\n",
    "        p6 = (b-d)*(g+h); acct.count()\n",
    "        p7 = (a-c)*(e+f); acct.count()\n",
    "        s = p5+p4-p2+p6\n",
    "        t = p1+p2\n",
    "        u = p3+p4\n",
    "        v = p5+p1-p3-p7\n",
    "        return np.vstack((np.hstack((s,t)), np.hstack((u,v))))\n",
    "        \n",
    "        \n",
    "    a, b, c, d = dividir(matriz1, acct); acct.count()\n",
    "    e, f, g, h = dividir(matriz2, acct); acct.count()\n",
    "    \n",
    "    p1 = strassen(a,(f-h), acct); acct.count()\n",
    "    p2 = strassen((a+b),h, acct); acct.count()\n",
    "    p3 = strassen((c+d),e, acct); acct.count()\n",
    "    p4 = strassen(d,(g-e), acct); acct.count()\n",
    "    p5 = strassen((a+d),(e+h), acct); acct.count()\n",
    "    p6 = strassen((b-d),(g+h), acct); acct.count()\n",
    "    p7 = strassen((a-c),(e+f), acct); acct.count()\n",
    "    s = p5+p4-p2+p6\n",
    "    t = p1+p2\n",
    "    u = p3+p4\n",
    "    v = p5+p1-p3-p7\n",
    "    \n",
    "    return np.vstack((np.hstack((s, t)), np.hstack((u, v))))\n",
    "\n",
    "def dividir(matriz, acct):\n",
    "    \n",
    "    tam = int((len(matriz))/2)    \n",
    "    a = matriz[0:tam, 0:tam]    \n",
    "    b = matriz[0:tam, tam:]\n",
    "    c = matriz[tam:, 0:tam]\n",
    "    d = matriz[tam:,tam:]\n",
    "    return a, b, c, d\n"
   ]
  },
  {
   "cell_type": "code",
   "execution_count": 697,
   "metadata": {
    "collapsed": false
   },
   "outputs": [
    {
     "name": "stdout",
     "output_type": "stream",
     "text": [
      "[[ 5  3 22  0]\n",
      " [42 29 83  0]\n",
      " [21 43 82  0]\n",
      " [ 0  0  0  0]]\n",
      "Number of steps = 58\n"
     ]
    }
   ],
   "source": [
    "A = np.random.randint(10, size=(3, 3))\n",
    "B = np.random.randint(10, size=(3, 3))\n",
    "acct=Counter()\n",
    "C = strassen(A,B, acct)\n",
    "print(C)\n",
    "acct.print_steps()"
   ]
  },
  {
   "cell_type": "code",
   "execution_count": 698,
   "metadata": {
    "collapsed": true
   },
   "outputs": [],
   "source": [
    "import random as rnd\n",
    "\n",
    "def analisis_multiplicacion(n):\n",
    "    results = []\n",
    "    acct = Counter()\n",
    "    for i in range(2,n):\n",
    "        a = np.random.randint(10, size=(i,i))\n",
    "        b = np.random.randint(10, size=(i,i))\n",
    "        acct.reset()\n",
    "        multiplicacion(a,b,acct)\n",
    "        results.append(acct.steps)\n",
    "    return results\n"
   ]
  },
  {
   "cell_type": "code",
   "execution_count": 700,
   "metadata": {
    "collapsed": true
   },
   "outputs": [],
   "source": [
    "import random as rnd\n",
    "\n",
    "def analisis_dividir(n):\n",
    "    results = []\n",
    "    acct = Counter()\n",
    "    for i in range(2,n):\n",
    "        a = np.random.randint(10, size=(i,i))\n",
    "        b = np.random.randint(10, size=(i,i))\n",
    "        acct.reset()\n",
    "        divide_venceras(a,b,acct)\n",
    "        results.append(acct.steps)\n",
    "    return results"
   ]
  },
  {
   "cell_type": "code",
   "execution_count": 702,
   "metadata": {
    "collapsed": true
   },
   "outputs": [],
   "source": [
    "import random as rnd\n",
    "\n",
    "def analisis_strassen(n):\n",
    "    results = []\n",
    "    acct = Counter()\n",
    "    for i in range(2,n):\n",
    "        a = np.random.randint(10, size=(i,i))\n",
    "        b = np.random.randint(10, size=(i,i))\n",
    "        acct.reset()\n",
    "        strassen(a,b,acct)\n",
    "        results.append(acct.steps)\n",
    "    return results"
   ]
  },
  {
   "cell_type": "code",
   "execution_count": 707,
   "metadata": {
    "collapsed": false
   },
   "outputs": [
    {
     "data": {
      "text/plain": [
       "[<matplotlib.lines.Line2D at 0x2434b52aeb8>]"
      ]
     },
     "execution_count": 707,
     "metadata": {},
     "output_type": "execute_result"
    },
    {
     "data": {
      "image/png": "[encoded data removed]",
      "text/plain": [
       "<matplotlib.figure.Figure at 0x2434b20ecc0>"
      ]
     },
     "metadata": {},
     "output_type": "display_data"
    }
   ],
   "source": [
    "pl.clf()\n",
    "x = np.arange(98)\n",
    "y = np.array(analisis_multiplicacion(100))\n",
    "pl.plot(x, y, 'k.', color ='r')\n",
    "z = np.array(analisis_dividir(100))\n",
    "pl.plot(x, z, 'k.', color='c')\n",
    "w = np.array(analisis_strassen(100))\n",
    "pl.plot(x, w, 'k.', color='g')\n"
   ]
  },
  {
   "cell_type": "code",
   "execution_count": null,
   "metadata": {
    "collapsed": true
   },
   "outputs": [],
   "source": []
  }
 ],
 "metadata": {
  "kernelspec": {
   "display_name": "Python [default]",
   "language": "python",
   "name": "python3"
  }
 },
 "nbformat": 4,
 "nbformat_minor": 1
}
