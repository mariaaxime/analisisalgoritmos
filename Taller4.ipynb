{
 "cells": [
  {
   "cell_type": "markdown",
   "metadata": {},
   "source": [
    "<h2> Taller 4 </h2>"
   ]
  },
  {
   "cell_type": "code",
   "execution_count": 1,
   "metadata": {
    "collapsed": true
   },
   "outputs": [],
   "source": [
    "import math\n",
    "import numpy as np\n",
    "import pylab as pl\n",
    "%matplotlib inline"
   ]
  },
  {
   "cell_type": "markdown",
   "metadata": {},
   "source": [
    "<h3> 1. Implemente un método que retorne la subsecuencia común más larga (SCL) apartir de la matriz C construida por el algoritmo de PD que calcula la longitud de la SCL </h3>"
   ]
  },
  {
   "cell_type": "code",
   "execution_count": 10,
   "metadata": {
    "collapsed": false
   },
   "outputs": [],
   "source": [
    "def scl(a, b):\n",
    "    distancias = []\n",
    "    for i in range(len(a)+1):\n",
    "        distancias.append([])\n",
    "        for j in range(len(b)+1):\n",
    "            distancias[i].append(0)    \n",
    "    for i,x in enumerate(a):\n",
    "        for j,y in enumerate(b):\n",
    "            if x == y:\n",
    "                distancias[i+1][j+1] = distancias[i][j] + 1\n",
    "            else:\n",
    "                distancias[i+1][j+1] = max(distancias[i+1][j], distancias[i][j+1])\n",
    "    secuencia = \"\"\n",
    "    x = len(a)\n",
    "    y = len(b)\n",
    "    while x != 0 and y != 0:\n",
    "        if distancias[x][y] == distancias[x-1][y]:\n",
    "            x -= 1\n",
    "        elif distancias[x][y] == distancias[x][y-1]:\n",
    "            y -= 1\n",
    "        else:\n",
    "            assert a[x-1] == b[y-1]\n",
    "            secuencia = a[x-1] + secuencia\n",
    "            x -= 1\n",
    "            y -= 1\n",
    "    print (\"SCL: \", secuencia)"
   ]
  },
  {
   "cell_type": "code",
   "execution_count": 11,
   "metadata": {
    "collapsed": false
   },
   "outputs": [
    {
     "name": "stdout",
     "output_type": "stream",
     "text": [
      "SCL:  ARIEAUN\n"
     ]
    }
   ],
   "source": [
    "scl(\"MARIAXIMENAACUNA\", \"ANDRESFELIPETOCARUNCHO\")"
   ]
  },
  {
   "cell_type": "markdown",
   "metadata": {},
   "source": [
    "<h3> 2. Para el problema del corte de la barilla: </h3>"
   ]
  },
  {
   "cell_type": "markdown",
   "metadata": {},
   "source": [
    "<h4> Implemente un método para determinar los cortes que se deben realizar a partir de la solución de PD que encuentra el valor de la solución óptima. </h4>"
   ]
  },
  {
   "cell_type": "markdown",
   "metadata": {},
   "source": [
    "Implementación simple de arriba hacia abajo (top-down)"
   ]
  },
  {
   "cell_type": "code",
   "execution_count": 12,
   "metadata": {
    "collapsed": true
   },
   "outputs": [],
   "source": [
    "p = [1,5,8,9,10,17,17,20,24,30]"
   ]
  },
  {
   "cell_type": "code",
   "execution_count": 13,
   "metadata": {
    "collapsed": false
   },
   "outputs": [],
   "source": [
    "def cut_rodR(p, n):\n",
    "    if n==0:\n",
    "        return 0\n",
    "    q = float('-inf')\n",
    "    for i in range(n):\n",
    "        #print i\n",
    "        q = max(q, p[i] + cut_rodR(p, n-1-i))\n",
    "    return q"
   ]
  },
  {
   "cell_type": "code",
   "execution_count": 14,
   "metadata": {
    "collapsed": false,
    "scrolled": true
   },
   "outputs": [
    {
     "name": "stdout",
     "output_type": "stream",
     "text": [
      "22\n"
     ]
    }
   ],
   "source": [
    "sol = cut_rodR(p,8)\n",
    "print (sol)"
   ]
  },
  {
   "cell_type": "markdown",
   "metadata": {},
   "source": [
    "<h3> 3. Implemente, describa y analice un algoritmo de PD para calcular la distancia de edición entre dos cadenas. </h3>"
   ]
  },
  {
   "cell_type": "code",
   "execution_count": 15,
   "metadata": {
    "collapsed": true
   },
   "outputs": [],
   "source": [
    "def distancia_edicion(n,x,m,y):\n",
    "    matriz = []\n",
    "\n",
    "    for i in range(n+1):\n",
    "        matriz.append([])        \n",
    "        for j in range(m+1):\n",
    "            matriz[i].append(0)\n",
    "\n",
    "    for i in range(n+1):\n",
    "        matriz[i][0] = i\n",
    "\n",
    "    for j in range(m+1):\n",
    "        matriz[0][j] = j\n",
    "\n",
    "    for i in range(1,n+1):\n",
    "        for j in range(1,m+1):\n",
    "            if (x[i-1] == y[j-1]):\n",
    "                matriz[i][j] = matriz[i-1][j-1]\n",
    "            else:\n",
    "                matriz[i][j] = min(matriz[i-1][j-1]+1, min(matriz[i-1][j]+1, matriz[i][j-1]+1))\n",
    "        \n",
    "    return matriz[n][m]"
   ]
  },
  {
   "cell_type": "code",
   "execution_count": 16,
   "metadata": {
    "collapsed": false
   },
   "outputs": [
    {
     "name": "stdout",
     "output_type": "stream",
     "text": [
      "2\n"
     ]
    }
   ],
   "source": [
    "dist = distancia_edicion(5,'cazar',7,'cazador')\n",
    "print (dist)"
   ]
  },
  {
   "cell_type": "markdown",
   "metadata": {},
   "source": [
    "Se tiene una matriz $M[][]$ donde $M[i][j]$ = $c[i][j]$ donde $c[i][j]$ depende de todos los $c[i'][j']$ anteriores. El costo $c[i][j]$ se calcula utilizando la ecuación del punto anterior. \n",
    "\n",
    "- Pseudocódigo:\n",
    "\n",
    "$\\hspace{1cm}$M[0][0] = 0\n",
    "\n",
    "$\\hspace{1cm}$for i=0 to n \n",
    "\n",
    "$\\hspace{1cm}$$\\hspace{1cm}$for j=0 to m\n",
    "\n",
    "$\\hspace{1cm}$$\\hspace{1cm}$$\\hspace{1cm}$calcular $ c[i,j] = min \\left \\{ \\begin{matrix} c[i-1][j-1] & \\mbox{si }i>0\\mbox{ y }j>0\\mbox{ y }x[i-1]\\mbox{ = }y[j-1] & \\\\ c[i-1][j-1] + 1 & \\mbox{si }i>0\\mbox{ y }j>0\\mbox{ y }x[i-1]\\mbox{ $\\neq$ }y[j-1]\\end{matrix}\\right. $\n",
    "\n",
    "$\\hspace{1cm}$$\\hspace{1cm}$ end for\n",
    "\n",
    "$\\hspace{1cm}$end for\n",
    "\n",
    "$\\hspace{1cm}$return c[n][m]\n",
    "\n",
    "El tiempo de ejecucion del algoritmo es de $\\theta$(nm) y requiere espacio de $\\theta$(nm). Ésto debido a que llena la matriz para todos los elementos de cada cadena."
   ]
  },
  {
   "cell_type": "markdown",
   "metadata": {},
   "source": [
    "<h3> En el rio atrato hay n embarcaderos, en cada uno de ellos se puede alquilar un bote para realizar un viaje rio abajo a otro embarcadero. Existe una tabla de tarifas que indica el costo del viaje del embarcadero i al j, para i, j = 1,2,...,n  (i $<$ j), puede pasar que un viaje de i a j sea más caro que una serie de viajes sucesivos intermedios, no hay un costo asociado a cambiar de bote en algún embarcadero. El problema consiste en diseñar un algoritmo de PD que determine el costo mínimo para cada par de puntos i,j. </h3>"
   ]
  },
  {
   "cell_type": "code",
   "execution_count": 17,
   "metadata": {
    "collapsed": false
   },
   "outputs": [],
   "source": [
    "def floyd_warshall(costo):\n",
    "    V = len(costo)\n",
    "    \n",
    "    for k in range(V):\n",
    "        for i in range(V):\n",
    "            for j in range(V):\n",
    "                costo[i][j] = min(costo[i][j],costo[i][k]+ costo[k][j])\n",
    "    \n",
    "    for i in range(V):\n",
    "        print (costo[i])"
   ]
  },
  {
   "cell_type": "code",
   "execution_count": 18,
   "metadata": {
    "collapsed": false
   },
   "outputs": [
    {
     "name": "stdout",
     "output_type": "stream",
     "text": [
      "[0, 12, 16, 5]\n",
      "[inf, 0, 4, 11]\n",
      "[inf, inf, 0, 7]\n",
      "[inf, inf, inf, 0]\n"
     ]
    }
   ],
   "source": [
    "costos = [[0,12,float('inf'),5],\n",
    "         [float('inf'),0,4,float('inf')],\n",
    "         [float('inf'), float('inf'), 0,7],\n",
    "         [float('inf'), float('inf'), float('inf'), 0]]\n",
    "\n",
    "floyd_warshall(costos);"
   ]
  }
 ],
 "metadata": {
  "anaconda-cloud": {},
  "kernelspec": {
   "display_name": "Python [default]",
   "language": "python",
   "name": "python3"
  },
  "language_info": {
   "codemirror_mode": {
    "name": "ipython",
    "version": 3
   },
   "file_extension": ".py",
   "mimetype": "text/x-python",
   "name": "python",
   "nbconvert_exporter": "python",
   "pygments_lexer": "ipython3",
   "version": "3.5.2"
  }
 },
 "nbformat": 4,
 "nbformat_minor": 1
}
