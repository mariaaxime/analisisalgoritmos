{
 "cells": [
  {
   "cell_type": "code",
   "execution_count": 240,
   "metadata": {
    "collapsed": true
   },
   "outputs": [],
   "source": [
    "import math\n",
    "import numpy as np\n",
    "import pylab as pl\n",
    "%matplotlib inline"
   ]
  },
  {
   "cell_type": "markdown",
   "metadata": {},
   "source": [
    "<h1> Algoritmo de ordenamiento QuickSort </h1>"
   ]
  },
  {
   "cell_type": "code",
   "execution_count": 241,
   "metadata": {
    "collapsed": true
   },
   "outputs": [],
   "source": [
    "def quicksort(lista):\n",
    "\n",
    "    if len(lista) < 2:\n",
    "        return lista\n",
    "\n",
    "    izquierda, pivote, derecha = divide(lista)\n",
    "\n",
    "    return quicksort(izquierda) + pivote + quicksort(derecha)\n",
    "\n",
    "def divide(lista):\n",
    "\n",
    "    pivote = lista[:1]\n",
    "\n",
    "    izquierda =[]\n",
    "    derecha = []\n",
    "\n",
    "    for i in xrange(1, len(lista)):\n",
    "        if(lista[i] < pivote[0]):\n",
    "            izquierda.append(lista[i])\n",
    "        else:\n",
    "            derecha.append(lista[i])\n",
    "\n",
    "    return izquierda, pivote, derecha"
   ]
  },
  {
   "cell_type": "code",
   "execution_count": 242,
   "metadata": {
    "collapsed": false
   },
   "outputs": [
    {
     "name": "stdout",
     "output_type": "stream",
     "text": [
      "[1, 4, 5, 6, 8, 10, 22, 98]\n"
     ]
    }
   ],
   "source": [
    "A = [10,5,4,6,22,8,98,1]\n",
    "A = quicksort(A)\n",
    "print A"
   ]
  },
  {
   "cell_type": "markdown",
   "metadata": {},
   "source": [
    "<h2> Correctitud </h2>"
   ]
  },
  {
   "cell_type": "markdown",
   "metadata": {},
   "source": [
    "Se verifica que en todo momento los elementos del vector de la izquierda sean menores al pivote y los elementos del vector de la derecha sean mayores o iguales al pivote."
   ]
  },
  {
   "cell_type": "code",
   "execution_count": 243,
   "metadata": {
    "collapsed": false
   },
   "outputs": [],
   "source": [
    "def invariant(menores, pivote, mayores):\n",
    "    correcto = True;\n",
    "    \n",
    "    if(len(menores)>=1):        \n",
    "        if(pivote[0] <= max(menores)):\n",
    "            correcto = False;\n",
    "            \n",
    "    if(len(mayores)>=1):        \n",
    "        if(pivote[0] > min(mayores)):\n",
    "            correcto = False;\n",
    "        \n",
    "    print menores, \" - \", pivote, \" - \", mayores\n",
    "        \n",
    "    return correcto"
   ]
  },
  {
   "cell_type": "code",
   "execution_count": 244,
   "metadata": {
    "collapsed": true
   },
   "outputs": [],
   "source": [
    "def correctitud_quicksort(lista):\n",
    "\n",
    "    if len(lista) < 2:\n",
    "        return lista\n",
    "\n",
    "    izquierda, pivote, derecha = correctitud_divide(lista)\n",
    "\n",
    "    return correctitud_quicksort(izquierda) + pivote + correctitud_quicksort(derecha)\n",
    "\n",
    "def correctitud_divide(lista):\n",
    "\n",
    "    pivote = lista[:1]\n",
    "\n",
    "    izquierda =[]\n",
    "    derecha = []\n",
    "\n",
    "    for i in xrange(1, len(lista)):\n",
    "        if(lista[i] < pivote[0]):\n",
    "            izquierda.append(lista[i])\n",
    "        else:\n",
    "            derecha.append(lista[i])\n",
    "            \n",
    "    print invariant(izquierda, pivote, derecha)\n",
    "\n",
    "    return izquierda, pivote, derecha"
   ]
  },
  {
   "cell_type": "code",
   "execution_count": 245,
   "metadata": {
    "collapsed": false
   },
   "outputs": [
    {
     "name": "stdout",
     "output_type": "stream",
     "text": [
      "[5, 4, 6, 8, 1]  -  [10]  -  [22, 98]\n",
      "True\n",
      "[4, 1]  -  [5]  -  [6, 8]\n",
      "True\n",
      "[1]  -  [4]  -  []\n",
      "True\n",
      "[]  -  [6]  -  [8]\n",
      "True\n",
      "[]  -  [22]  -  [98]\n",
      "True\n",
      "[1, 4, 5, 6, 8, 10, 22, 98]\n"
     ]
    }
   ],
   "source": [
    "A = [10,5,4,6,22,8,98,1]\n",
    "A = correctitud_quicksort(A)\n",
    "print A"
   ]
  },
  {
   "cell_type": "markdown",
   "metadata": {},
   "source": [
    "<h3> Número de Operaciones </h3>"
   ]
  },
  {
   "cell_type": "markdown",
   "metadata": {},
   "source": [
    "Se calcula el número de operaciones que realiza el algoritmo para una lista de tamaño n."
   ]
  },
  {
   "cell_type": "code",
   "execution_count": 246,
   "metadata": {
    "collapsed": true
   },
   "outputs": [],
   "source": [
    "class Counter:\n",
    "    '''\n",
    "    Class Counter\n",
    "    Implements a step counter, which is used to compute the number of basic operations performed in\n",
    "    a particular call to a function.\n",
    "    '''\n",
    "    def __init__(self):\n",
    "        self.steps = 0\n",
    "\n",
    "    def reset(self):\n",
    "        self.steps = 0\n",
    "\n",
    "    def count(self):\n",
    "        self.steps += 1\n",
    "\n",
    "    def print_steps(self):\n",
    "        print \"Number of steps =\", self.steps\n",
    "\n",
    "def acct_quicksort(lista, acct):\n",
    "\n",
    "    if len(lista) < 2:\n",
    "        acct.count()\n",
    "        return lista\n",
    "\n",
    "    izquierda, pivote, derecha = acct_divide(lista, acct); acct.count()\n",
    "\n",
    "    return acct_quicksort(izquierda, acct) + pivote + acct_quicksort(derecha, acct)\n",
    "\n",
    "def acct_divide(lista, acct):\n",
    "\n",
    "    pivote = lista[:1]; acct.count()\n",
    "\n",
    "    izquierda =[]; acct.count()\n",
    "    derecha = []; acct.count()\n",
    "\n",
    "    for i in xrange(1, len(lista)):\n",
    "        if(lista[i] < pivote[0]):\n",
    "            acct.count()\n",
    "            izquierda.append(lista[i])\n",
    "        else:\n",
    "            acct.count()\n",
    "            derecha.append(lista[i])\n",
    "\n",
    "    return izquierda, pivote, derecha"
   ]
  },
  {
   "cell_type": "code",
   "execution_count": 247,
   "metadata": {
    "collapsed": false,
    "scrolled": true
   },
   "outputs": [
    {
     "name": "stdout",
     "output_type": "stream",
     "text": [
      "Number of steps = 40\n"
     ]
    }
   ],
   "source": [
    "A = [10,5,4,6,22,8,98,1]\n",
    "acct = Counter()\n",
    "A = acct_quicksort(A, acct)\n",
    "acct.print_steps()"
   ]
  },
  {
   "cell_type": "markdown",
   "metadata": {},
   "source": [
    "<h2> Análisis experimental </h2>"
   ]
  },
  {
   "cell_type": "markdown",
   "metadata": {},
   "source": [
    "Se calcula el número de operaciones que realiza el algoritmo tomando listas de tamaño 1 hasta n."
   ]
  },
  {
   "cell_type": "code",
   "execution_count": 248,
   "metadata": {
    "collapsed": true
   },
   "outputs": [],
   "source": [
    "import random as rnd\n",
    "\n",
    "def exper_analysis(n):\n",
    "    results = []\n",
    "    acct = Counter()\n",
    "    for i in range(n):\n",
    "        l = range(i)\n",
    "        rnd.shuffle(l)\n",
    "        acct.reset()\n",
    "        acct_quicksort(l, acct)\n",
    "        results.append(acct.steps)\n",
    "    return results"
   ]
  },
  {
   "cell_type": "code",
   "execution_count": 249,
   "metadata": {
    "collapsed": false
   },
   "outputs": [
    {
     "name": "stdout",
     "output_type": "stream",
     "text": [
      "[1, 1, 7, 14, 16, 25, 32, 28, 41, 60]\n"
     ]
    }
   ],
   "source": [
    "print exper_analysis(10)"
   ]
  },
  {
   "cell_type": "markdown",
   "metadata": {},
   "source": [
    "<h2> Análisis teórico </h2>"
   ]
  },
  {
   "cell_type": "markdown",
   "metadata": {},
   "source": [
    "Se calcula T(n) para listas de tamaño 1 hasta n teniendo en cuenta que el algoritmo es de orden O(n log2 n)."
   ]
  },
  {
   "cell_type": "code",
   "execution_count": 250,
   "metadata": {
    "collapsed": true
   },
   "outputs": [],
   "source": [
    "import random as rnd\n",
    "import math\n",
    "\n",
    "def teoric_analysis(n):\n",
    "    results = []\n",
    "    for i in range(n):\n",
    "        if(i == 0):\n",
    "            l = 0\n",
    "        else:\n",
    "            l = i*np.log2(i)\n",
    "        results.append(l)\n",
    "    return results"
   ]
  },
  {
   "cell_type": "code",
   "execution_count": 251,
   "metadata": {
    "collapsed": false
   },
   "outputs": [
    {
     "name": "stdout",
     "output_type": "stream",
     "text": [
      "[0, 0.0, 2.0, 4.7548875021634682, 8.0, 11.60964047443681, 15.509775004326936, 19.651484454403228, 24.0, 28.529325012980809]\n"
     ]
    }
   ],
   "source": [
    "print teoric_analysis(10)"
   ]
  },
  {
   "cell_type": "markdown",
   "metadata": {},
   "source": [
    "<h2> Análisis de tiempo </h2>"
   ]
  },
  {
   "cell_type": "markdown",
   "metadata": {},
   "source": [
    "Se calcula el tiempo de ejecución del algoritmo para listas de tamaño 1 hasta n."
   ]
  },
  {
   "cell_type": "code",
   "execution_count": 252,
   "metadata": {
    "collapsed": true
   },
   "outputs": [],
   "source": [
    "import time\n",
    "\n",
    "def time_analysis(n):\n",
    "    results = []\n",
    "    acct = Counter()\n",
    "    for i in range(n):\n",
    "        l = range(i)\n",
    "        rnd.shuffle(l)\n",
    "        tic = time.clock()#get start time\n",
    "        quicksort(l)\n",
    "        toc = time.clock()#get final time\n",
    "        results.append((toc-tic)*1000000)\n",
    "    return results"
   ]
  },
  {
   "cell_type": "markdown",
   "metadata": {},
   "source": [
    "<h2> Comparación </h2>"
   ]
  },
  {
   "cell_type": "code",
   "execution_count": 253,
   "metadata": {
    "collapsed": false
   },
   "outputs": [
    {
     "name": "stdout",
     "output_type": "stream",
     "text": [
      "[2.9999999995311555, 2.000000000279556, 7.000000000090267, 9.999999999621423, 10.00000000139778, 13.000000000928935, 18.000000000739647, 23.999999999801958, 25.000000000829914, 28.00000000036107]\n"
     ]
    }
   ],
   "source": [
    "print time_analysis(10)"
   ]
  },
  {
   "cell_type": "code",
   "execution_count": 254,
   "metadata": {
    "collapsed": false
   },
   "outputs": [
    {
     "data": {
      "text/plain": [
       "[<matplotlib.lines.Line2D at 0x7f8746baee50>]"
      ]
     },
     "execution_count": 254,
     "metadata": {},
     "output_type": "execute_result"
    },
    {
     "data": {
      "image/png": "[encoded data removed]",
      "text/plain": [
       "<matplotlib.figure.Figure at 0x7f8746ca8cd0>"
      ]
     },
     "metadata": {},
     "output_type": "display_data"
    }
   ],
   "source": [
    "pl.clf()\n",
    "x = np.arange(100)\n",
    "y = np.array(exper_analysis(100))\n",
    "pl.plot(x, y, 'k.', color ='r')\n",
    "z = np.array(teoric_analysis(100))\n",
    "pl.plot(x, z, 'k.', color='c')\n",
    "w = np.array(time_analysis(100))\n",
    "pl.plot(x, w, 'k.', color='g')"
   ]
  }
 ],
 "metadata": {
  "kernelspec": {
   "display_name": "Python 2",
   "language": "python",
   "name": "python2"
  },
  "language_info": {
   "codemirror_mode": {
    "name": "ipython",
    "version": 2
   },
   "file_extension": ".py",
   "mimetype": "text/x-python",
   "name": "python",
   "nbconvert_exporter": "python",
   "pygments_lexer": "ipython2",
   "version": "2.7.12"
  }
 },
 "nbformat": 4,
 "nbformat_minor": 1
}
