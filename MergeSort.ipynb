{
 "cells": [
  {
   "cell_type": "code",
   "execution_count": 520,
   "metadata": {
    "collapsed": true
   },
   "outputs": [],
   "source": [
    "import math\n",
    "import numpy as np\n",
    "import pylab as pl\n",
    "%matplotlib inline"
   ]
  },
  {
   "cell_type": "markdown",
   "metadata": {},
   "source": [
    "<h1> Algoritmo de ordenamiento MergeSort </h1>"
   ]
  },
  {
   "cell_type": "code",
   "execution_count": 521,
   "metadata": {
    "collapsed": true
   },
   "outputs": [],
   "source": [
    "def mergesort(lista):\n",
    "\n",
    "    if len(lista) < 2:\n",
    "        return lista\n",
    "\n",
    "    limite = len(lista)/2\n",
    "\n",
    "    izquierda = mergesort(lista[:int(limite)])\n",
    "    derecha = mergesort(lista[int(limite):])\n",
    "\n",
    "    return merge(izquierda, derecha)\n",
    "\n",
    "def merge(izquierda, derecha):\n",
    "    i = 0\n",
    "    j = 0\n",
    "\n",
    "    lista = []\n",
    "\n",
    "    while (i < len(izquierda) and j < len(derecha)):\n",
    "        if(izquierda[i] < derecha[j]):\n",
    "            lista.append(izquierda[i])\n",
    "            i += 1\n",
    "        else:\n",
    "            lista.append(derecha[j])\n",
    "            j += 1\n",
    "            \n",
    "    lista += izquierda[i:]\n",
    "    lista += derecha[j:]\n",
    "\n",
    "    return lista"
   ]
  },
  {
   "cell_type": "code",
   "execution_count": 522,
   "metadata": {
    "collapsed": false
   },
   "outputs": [
    {
     "name": "stdout",
     "output_type": "stream",
     "text": [
      "[1, 4, 5, 6, 8, 10, 22, 98]\n"
     ]
    }
   ],
   "source": [
    "A = [10,5,4,6,22,8,98,1]\n",
    "A = mergesort(A)\n",
    "print A"
   ]
  },
  {
   "cell_type": "markdown",
   "metadata": {},
   "source": [
    "<h2> Correctitud </h2>"
   ]
  },
  {
   "cell_type": "markdown",
   "metadata": {},
   "source": [
    "Se verifica que la lista creada al mezclar dos listas más pequeñas corresponda a la lista que se dividió originalmente de forma ordenada."
   ]
  },
  {
   "cell_type": "code",
   "execution_count": 523,
   "metadata": {
    "collapsed": true
   },
   "outputs": [],
   "source": [
    "def invariant(A, original_A):\n",
    "    l1 = list(A)\n",
    "    l2 = list(original_A)\n",
    "    l2.sort()\n",
    "    print \"Comparando \", A,\" con \", original_A\n",
    "    return l1 == l2"
   ]
  },
  {
   "cell_type": "code",
   "execution_count": 524,
   "metadata": {
    "collapsed": true
   },
   "outputs": [],
   "source": [
    "def correctitud_mergesort(lista):\n",
    "    original = list(lista)\n",
    "    if len(lista) < 2:\n",
    "        return lista\n",
    "\n",
    "    limite = len(lista)/2\n",
    "\n",
    "    izquierda = correctitud_mergesort(lista[:int(limite)])\n",
    "    derecha = correctitud_mergesort(lista[int(limite):])\n",
    "\n",
    "    return correctitud_merge(izquierda, derecha, original)\n",
    "\n",
    "def correctitud_merge(izquierda, derecha, original):\n",
    "    i = 0\n",
    "    j = 0\n",
    "    lista = []\n",
    "    \n",
    "    while (i < len(izquierda) and j < len(derecha)):\n",
    "        if(izquierda[i] < derecha[j]):\n",
    "            lista.append(izquierda[i])\n",
    "            i += 1\n",
    "        else:\n",
    "            lista.append(derecha[j])\n",
    "            j += 1\n",
    "            \n",
    "    lista += izquierda[i:]\n",
    "    lista += derecha[j:]\n",
    "    \n",
    "    print invariant(lista, original)\n",
    "\n",
    "    return lista"
   ]
  },
  {
   "cell_type": "code",
   "execution_count": 525,
   "metadata": {
    "collapsed": false
   },
   "outputs": [
    {
     "name": "stdout",
     "output_type": "stream",
     "text": [
      "Comparando  [5, 10]  con  [10, 5]\n",
      "True\n",
      "Comparando  [4, 6]  con  [4, 6]\n",
      "True\n",
      "Comparando  [4, 5, 6, 10]  con  [10, 5, 4, 6]\n",
      "True\n",
      "Comparando  [8, 22]  con  [22, 8]\n",
      "True\n",
      "Comparando  [1, 98]  con  [98, 1]\n",
      "True\n",
      "Comparando  [1, 8, 22, 98]  con  [22, 8, 98, 1]\n",
      "True\n",
      "Comparando  [1, 4, 5, 6, 8, 10, 22, 98]  con  [10, 5, 4, 6, 22, 8, 98, 1]\n",
      "True\n",
      "[1, 4, 5, 6, 8, 10, 22, 98]\n"
     ]
    }
   ],
   "source": [
    "A = [10,5,4,6,22,8,98,1]\n",
    "A = correctitud_mergesort(A)\n",
    "print A"
   ]
  },
  {
   "cell_type": "markdown",
   "metadata": {},
   "source": [
    "<h3> Número de operaciones </h3>"
   ]
  },
  {
   "cell_type": "code",
   "execution_count": 526,
   "metadata": {
    "collapsed": true
   },
   "outputs": [],
   "source": [
    "class Counter:\n",
    "    '''\n",
    "    Class Counter\n",
    "    Implements a step counter, which is used to compute the number of basic operations performed in\n",
    "    a particular call to a function.\n",
    "    '''\n",
    "    def __init__(self):\n",
    "        self.steps = 0\n",
    "\n",
    "    def reset(self):\n",
    "        self.steps = 0\n",
    "\n",
    "    def count(self):\n",
    "        self.steps += 1\n",
    "\n",
    "    def print_steps(self):\n",
    "        print \"Number of steps =\", self.steps\n",
    "        \n",
    "def acct_mergesort(lista, acct):\n",
    "\n",
    "    if len(lista) < 2: \n",
    "        acct.count()\n",
    "        return lista;\n",
    "\n",
    "    limite = len(lista)/2; acct.count()\n",
    "\n",
    "    izquierda = acct_mergesort(lista[:int(limite)], acct);\n",
    "    derecha = acct_mergesort(lista[int(limite):], acct);\n",
    "\n",
    "    return acct_merge(izquierda, derecha, acct)\n",
    "\n",
    "def acct_merge(izquierda, derecha, acct):\n",
    "    i = 0; acct.count()\n",
    "    j = 0; acct.count()\n",
    "\n",
    "    lista = []; \n",
    "    acct.count()\n",
    "    while (i < len(izquierda) and j < len(derecha)):\n",
    "        if(izquierda[i] < derecha[j]):\n",
    "            lista.append(izquierda[i])\n",
    "            i += 1\n",
    "            acct.count()\n",
    "        else:\n",
    "            lista.append(derecha[j])\n",
    "            j += 1\n",
    "            acct.count()\n",
    "            \n",
    "    lista += izquierda[i:]; acct.count()\n",
    "    lista += derecha[j:]; acct.count()\n",
    "\n",
    "    return lista"
   ]
  },
  {
   "cell_type": "code",
   "execution_count": 527,
   "metadata": {
    "collapsed": false
   },
   "outputs": [
    {
     "name": "stdout",
     "output_type": "stream",
     "text": [
      "[1, 4, 5, 6, 8, 10, 22, 98]\n",
      "Number of steps = 66\n"
     ]
    }
   ],
   "source": [
    "A = [10,5,4,6,22,8,98,1]\n",
    "acct = Counter()\n",
    "A = acct_mergesort(A, acct)\n",
    "print A\n",
    "acct.print_steps();"
   ]
  },
  {
   "cell_type": "markdown",
   "metadata": {},
   "source": [
    "<h2> Análisis experimental </h2>"
   ]
  },
  {
   "cell_type": "markdown",
   "metadata": {},
   "source": [
    "Se calcula el número de operaciones que realiza el algoritmo al ordenar listas de tamaño 1 hasta n."
   ]
  },
  {
   "cell_type": "code",
   "execution_count": 528,
   "metadata": {
    "collapsed": true
   },
   "outputs": [],
   "source": [
    "import random as rnd\n",
    "\n",
    "def exper_analysis(n):\n",
    "    results = []\n",
    "    acct = Counter()\n",
    "    for i in range(n):\n",
    "        l = range(i)\n",
    "        rnd.shuffle(l)\n",
    "        acct.reset()\n",
    "        acct_mergesort(l, acct)\n",
    "        results.append(acct.steps)\n",
    "    return results"
   ]
  },
  {
   "cell_type": "code",
   "execution_count": 529,
   "metadata": {
    "collapsed": false
   },
   "outputs": [
    {
     "name": "stdout",
     "output_type": "stream",
     "text": [
      "[1, 1, 9, 18, 27, 37, 47, 57, 67, 76]\n"
     ]
    }
   ],
   "source": [
    "print exper_analysis(10)"
   ]
  },
  {
   "cell_type": "markdown",
   "metadata": {},
   "source": [
    "<h2> Análisis teórico </h2>"
   ]
  },
  {
   "cell_type": "markdown",
   "metadata": {},
   "source": [
    "Se calcula el número de operaciones al ordenar listas de tamaño 1 hasta n de forma teórica teniendo en cuenta que el algoritmo Merge es de orden O(n * log2 n)."
   ]
  },
  {
   "cell_type": "code",
   "execution_count": 530,
   "metadata": {
    "collapsed": false
   },
   "outputs": [],
   "source": [
    "import random as rnd\n",
    "import math\n",
    "\n",
    "def teoric_analysis(n):\n",
    "    results = []\n",
    "    for i in range(n):\n",
    "        if(i == 0):\n",
    "            l = 0\n",
    "        else:\n",
    "            l = i*np.log2(i)\n",
    "        results.append(l)\n",
    "    return results"
   ]
  },
  {
   "cell_type": "code",
   "execution_count": 531,
   "metadata": {
    "collapsed": false
   },
   "outputs": [
    {
     "name": "stdout",
     "output_type": "stream",
     "text": [
      "[0, 0.0, 2.0, 4.7548875021634682, 8.0, 11.60964047443681, 15.509775004326936, 19.651484454403228, 24.0, 28.529325012980809]\n"
     ]
    }
   ],
   "source": [
    "print teoric_analysis(10)"
   ]
  },
  {
   "cell_type": "markdown",
   "metadata": {},
   "source": [
    "<h2> Análisis de tiempo de ejecución </h2>"
   ]
  },
  {
   "cell_type": "markdown",
   "metadata": {},
   "source": [
    "Se calcula el tiempo de ejecución que tarda el algoritmo ordenando listas de tamaño 1 hasta n."
   ]
  },
  {
   "cell_type": "code",
   "execution_count": 532,
   "metadata": {
    "collapsed": true
   },
   "outputs": [],
   "source": [
    "import time\n",
    "\n",
    "def time_analysis(n):\n",
    "    results = []\n",
    "    acct = Counter()\n",
    "    for i in range(n):\n",
    "        l = range(i)\n",
    "        rnd.shuffle(l)\n",
    "        tic = time.clock()#get start time\n",
    "        mergesort(l)\n",
    "        toc = time.clock()#get final time\n",
    "        results.append((toc-tic)*1000000)\n",
    "    return results"
   ]
  },
  {
   "cell_type": "code",
   "execution_count": 533,
   "metadata": {
    "collapsed": false
   },
   "outputs": [
    {
     "name": "stdout",
     "output_type": "stream",
     "text": [
      "[4.000000000559112, 2.0000000020559128, 9.999999999621423, 11.00000000064938, 15.999999998683734, 23.000000002326715, 28.00000000036107, 32.00000000092018, 35.00000000045134, 43.9999999990448]\n"
     ]
    }
   ],
   "source": [
    "print time_analysis(10)"
   ]
  },
  {
   "cell_type": "markdown",
   "metadata": {},
   "source": [
    "<h2> Comparación </h2>"
   ]
  },
  {
   "cell_type": "code",
   "execution_count": 534,
   "metadata": {
    "collapsed": false
   },
   "outputs": [
    {
     "data": {
      "text/plain": [
       "[<matplotlib.lines.Line2D at 0x7ff611e01f10>]"
      ]
     },
     "execution_count": 534,
     "metadata": {},
     "output_type": "execute_result"
    },
    {
     "data": {
      "image/png": "[encoded data removed]",
      "text/plain": [
       "<matplotlib.figure.Figure at 0x7ff611e5d410>"
      ]
     },
     "metadata": {},
     "output_type": "display_data"
    }
   ],
   "source": [
    "pl.clf()\n",
    "x = np.arange(100)\n",
    "y = np.array(exper_analysis(100))\n",
    "pl.plot(x, y, 'k.', color ='r')\n",
    "z = np.array(teoric_analysis(100))\n",
    "pl.plot(x, z, 'k.', color='c')\n",
    "w = np.array(time_analysis(100))\n",
    "pl.plot(x, w, 'k.', color='g')"
   ]
  }
 ],
 "metadata": {
  "anaconda-cloud": {},
  "kernelspec": {
   "display_name": "Python 2",
   "language": "python",
   "name": "python2"
  },
  "language_info": {
   "codemirror_mode": {
    "name": "ipython",
    "version": 2
   },
   "file_extension": ".py",
   "mimetype": "text/x-python",
   "name": "python",
   "nbconvert_exporter": "python",
   "pygments_lexer": "ipython2",
   "version": "2.7.12"
  }
 },
 "nbformat": 4,
 "nbformat_minor": 1
}
