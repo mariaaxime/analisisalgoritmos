{
 "cells": [
  {
   "cell_type": "markdown",
   "metadata": {},
   "source": [
    "<h2> Taller 5 </h2>"
   ]
  },
  {
   "cell_type": "code",
   "execution_count": 14,
   "metadata": {
    "collapsed": false
   },
   "outputs": [],
   "source": [
    "import math\n",
    "import numpy as np\n",
    "import pylab as pl\n",
    "%matplotlib inline"
   ]
  },
  {
   "cell_type": "markdown",
   "metadata": {},
   "source": [
    "<h3> Implemente el algoritmo de búsqueda en profundidad (DFS) y pruebelo para recorrer el grafo del laberinto de pacman. </h3>"
   ]
  },
  {
   "cell_type": "code",
   "execution_count": 15,
   "metadata": {
    "collapsed": false
   },
   "outputs": [],
   "source": [
    "def dfs(A, Estados, nVertices):\n",
    "    orden=[]\n",
    "    for i in range (nVertices):\n",
    "        orden=correrDfs(0,A, Estados, orden)\n",
    "    return orden\n",
    "    \n",
    "\n",
    "def correrDfs(u, A, Estados, orden):\n",
    "    Estados[u]=\"gris\"\n",
    "    for j in range(nVertices):\n",
    "        if (A[u][j]==1 and Estados[j]==\"blanco\" ):\n",
    "            correrDfs(j, A, Estados, orden)\n",
    "            \n",
    "    Estados[u]=\"negro\"\n",
    "\n",
    "    orden.append(u+1)\n",
    "    return orden"
   ]
  },
  {
   "cell_type": "markdown",
   "metadata": {},
   "source": [
    "<h3> Diseñe e implemente un algoritmo que verifique si un grafo es bipartito o no. </h3>"
   ]
  },
  {
   "cell_type": "code",
   "execution_count": 16,
   "metadata": {
    "collapsed": false
   },
   "outputs": [],
   "source": [
    "def EsBipartito(A, nVertices, inicio):\n",
    "   \n",
    "    colores=[]\n",
    "    for i in range(nVertices):\n",
    "        colores.append(-1)\n",
    "    colores[inicio]=1\n",
    "    \n",
    "    q=[]\n",
    "    q.append(inicio)\n",
    "    \n",
    "    \n",
    "    while not q:\n",
    "        u=q[len(q)]\n",
    "        del q[len(q)]\n",
    "        \n",
    "        for v in range(nVertices):\n",
    "            if A[u][v]==1 and colores[v]==-1:\n",
    "                colores[v]=1-colores[u]\n",
    "                q.append[u]\n",
    "                \n",
    "            if a[u][v]==1 and colores[v]==colores[u]:\n",
    "                \n",
    "                return 0\n",
    "    return 1\n",
    "        "
   ]
  },
  {
   "cell_type": "markdown",
   "metadata": {},
   "source": [
    "Prueba de los  algoritmos en el grafo de Pacman"
   ]
  },
  {
   "cell_type": "code",
   "execution_count": 17,
   "metadata": {
    "collapsed": true
   },
   "outputs": [],
   "source": [
    "A = [[0,1,1,1,0,0,0,0,0,0,0,0,0,0,0,0,0,0,0,0,0,0,0,0,0,0],\n",
    "     [1,0,1,1,1,0,0,0,0,0,0,0,0,0,0,0,0,0,0,0,0,0,0,0,0,0],\n",
    "     [1,1,0,0,0,0,0,0,0,0,0,0,1,0,0,0,0,0,0,0,0,0,0,0,0,0],\n",
    "     [1,1,0,0,0,1,0,0,0,0,0,0,0,0,0,0,0,0,0,0,0,0,0,0,0,0],\n",
    "     [0,1,0,0,0,1,0,0,0,0,0,0,0,0,1,0,0,0,0,0,0,0,0,0,0,0],\n",
    "     [0,0,0,1,1,0,1,0,0,0,0,0,0,0,0,0,0,0,0,0,0,0,0,0,0,0],\n",
    "     [0,0,0,0,0,1,0,1,1,0,0,0,0,0,0,0,0,0,0,0,0,0,0,0,0,0],\n",
    "     [0,0,0,0,0,0,1,0,0,1,0,0,0,0,1,0,0,0,0,0,0,0,0,0,0,0],\n",
    "     [0,0,0,0,0,0,1,0,0,1,1,0,0,0,0,0,0,0,0,0,0,0,0,0,0,0],\n",
    "     [0,0,0,0,0,0,0,1,1,0,1,1,0,0,0,0,0,0,0,0,0,0,0,0,0,0],\n",
    "     [0,0,0,0,0,0,0,0,1,1,0,0,0,0,0,0,0,0,0,0,0,0,0,0,0,0],\n",
    "     [0,0,0,0,0,0,0,0,0,1,1,0,0,0,0,0,1,0,0,0,0,0,0,0,0,0],\n",
    "     [0,0,1,0,0,0,0,0,0,0,0,0,0,1,0,0,1,0,0,0,0,0,0,0,0,0],\n",
    "     [0,0,0,0,0,0,0,0,0,0,0,0,1,0,1,0,0,1,1,0,0,0,0,0,0,0],\n",
    "     [0,0,0,0,1,0,0,1,0,0,0,0,0,1,0,1,0,0,0,0,0,0,0,0,0,0],\n",
    "     [0,0,0,0,0,0,0,0,0,0,0,0,0,0,1,0,1,0,1,1,0,0,0,0,0,0],\n",
    "     [0,0,0,0,0,0,0,0,0,0,0,1,1,0,0,1,0,0,0,0,0,0,0,0,0,0],\n",
    "     [0,0,0,0,0,0,0,0,0,0,0,0,0,1,0,0,0,0,1,0,0,1,0,0,0,0],\n",
    "     [0,0,0,0,0,0,0,0,0,0,0,0,0,1,0,1,0,1,0,1,0,0,1,1,0,0],\n",
    "     [0,0,0,0,0,0,0,0,0,0,0,0,0,0,0,1,0,0,1,0,0,0,0,0,1,0],\n",
    "     [0,0,0,0,0,0,0,0,0,0,0,0,0,0,0,0,0,0,0,0,0,1,0,1,0,0],\n",
    "     [0,0,0,0,0,0,0,0,0,0,0,0,0,0,0,0,0,1,0,0,1,0,1,0,0,0],\n",
    "     [0,0,0,0,0,0,0,0,0,0,0,0,0,0,0,0,0,0,1,0,0,1,0,1,0,1],\n",
    "     [0,0,0,0,0,0,0,0,0,0,0,0,0,0,0,0,0,0,1,0,1,0,1,0,1,0],\n",
    "     [0,0,0,0,0,0,0,0,0,0,0,0,0,0,0,0,0,0,0,1,0,0,0,1,0,1],\n",
    "     [0,0,0,0,0,0,0,0,0,0,0,0,0,0,0,0,0,0,0,0,0,0,1,0,1,0]\n",
    "    ]\n",
    "nVertices=26\n",
    "Estados=[\"blanco\",\"blanco\",\"blanco\",\"blanco\",\"blanco\",\"blanco\",\"blanco\",\"blanco\",\"blanco\",\"blanco\",\"blanco\",\"blanco\",\"blanco\",\"blanco\",\"blanco\",\"blanco\",\"blanco\",\"blanco\",\"blanco\",\"blanco\",\"blanco\",\"blanco\",\"blanco\",\"blanco\",\"blanco\",\"blanco\"]"
   ]
  },
  {
   "cell_type": "code",
   "execution_count": 18,
   "metadata": {
    "collapsed": false,
    "scrolled": true
   },
   "outputs": [
    {
     "name": "stdout",
     "output_type": "stream",
     "text": [
      "Es bipartito\n",
      "[4, 11, 9, 20, 25, 26, 23, 24, 21, 22, 18, 19, 16, 17, 12, 10, 8, 7, 6, 5, 15, 14, 13, 3, 2, 1, 1, 1, 1, 1, 1, 1, 1, 1, 1, 1, 1, 1, 1, 1, 1, 1, 1, 1, 1, 1, 1, 1, 1, 1, 1]\n"
     ]
    }
   ],
   "source": [
    "res=dfs(A, Estados, nVertices)\n",
    "bipartito=EsBipartito(A, nVertices,0)\n",
    "if bipartito==1:\n",
    "    print (\"Es bipartito\")\n",
    "else:\n",
    "    print (\"No es bipartito\")\n",
    "\n",
    "\n",
    "print (res)\n"
   ]
  },
  {
   "cell_type": "markdown",
   "metadata": {},
   "source": [
    "<h3> Realice el análisis del tiempo de ejecución del algoritmo DFS </h3>"
   ]
  },
  {
   "cell_type": "code",
   "execution_count": 24,
   "metadata": {
    "collapsed": false
   },
   "outputs": [],
   "source": [
    "class Counter:\n",
    "    '''\n",
    "    Class Counter\n",
    "    Implements a step counter, which is used to compute the number of basic operations performed in\n",
    "    a particular call to a function.\n",
    "    '''\n",
    "    def __init__(self):\n",
    "        self.steps = 0\n",
    "\n",
    "    def reset(self):\n",
    "        self.steps = 0\n",
    "\n",
    "    def count(self):\n",
    "        self.steps += 1\n",
    "\n",
    "    def print_steps(self):\n",
    "        print (\"Number of steps =\", self.steps)\n",
    "        \n",
    "def acct_dfs(A, Estados, nVertices, acct):\n",
    "    orden = []\n",
    "    for i in range (nVertices):\n",
    "        orden=acct_correrDfs(0,A, Estados, orden, acct); acct.count();\n",
    "    return orden\n",
    "    \n",
    "\n",
    "def acct_correrDfs(u, A, Estados, orden, acct):\n",
    "    Estados[u]=\"gris\"; acct.count();\n",
    "    for j in range(nVertices):\n",
    "        if (A[u][j]==1 and Estados[j]==\"blanco\" ):\n",
    "            acct_correrDfs(j, A, Estados, orden, acct); acct.count();\n",
    "            \n",
    "    Estados[u]=\"negro\"; acct.count();\n",
    "\n",
    "    orden.append(u+1); acct.count();\n",
    "    return orden"
   ]
  },
  {
   "cell_type": "code",
   "execution_count": 25,
   "metadata": {
    "collapsed": false
   },
   "outputs": [
    {
     "name": "stdout",
     "output_type": "stream",
     "text": [
      "[1, 1, 1, 1, 1, 1, 1, 1, 1, 1, 1, 1, 1, 1, 1, 1, 1, 1, 1, 1, 1, 1, 1, 1, 1, 1]\n",
      "Number of steps = 104\n"
     ]
    }
   ],
   "source": [
    "acct = Counter()\n",
    "res=acct_dfs(A, Estados, nVertices, acct)\n",
    "print (res)\n",
    "acct.print_steps()"
   ]
  },
  {
   "cell_type": "code",
   "execution_count": 26,
   "metadata": {
    "collapsed": true
   },
   "outputs": [],
   "source": [
    "import time\n",
    "\n",
    "def time_analysis():\n",
    "    results = []\n",
    "    acct = Counter()\n",
    "    tic = time.clock()#get start time\n",
    "    dfs(A, Estados, nVertices)\n",
    "    toc = time.clock()#get final time\n",
    "    results.append((toc-tic)*10000000)\n",
    "    return results"
   ]
  },
  {
   "cell_type": "code",
   "execution_count": 29,
   "metadata": {
    "collapsed": false
   },
   "outputs": [
    {
     "data": {
      "text/plain": [
       "[2659.8838203995]"
      ]
     },
     "execution_count": 29,
     "metadata": {},
     "output_type": "execute_result"
    }
   ],
   "source": [
    "time_analysis()"
   ]
  },
  {
   "cell_type": "markdown",
   "metadata": {},
   "source": [
    "<h3> Modifique el algoritmo de dijkstra para solucionar el problema de la ruta más corta en un grafo sin pesos, i.e. partiendo de un vertice inicial encontrar la ruta y su distancia a todos los demás vertices haciendo la menor cantidad de saltos (vertices en la ruta) </h3>"
   ]
  },
  {
   "cell_type": "code",
   "execution_count": 35,
   "metadata": {
    "collapsed": false
   },
   "outputs": [],
   "source": [
    "def popmin(pqueue):\n",
    "    lowest = 1000\n",
    "    keylowest = None\n",
    "    for key in pqueue:\n",
    "        if pqueue[key] < lowest:\n",
    "            lowest = pqueue[key]\n",
    "            keylowest = key\n",
    "    del pqueue[keylowest]\n",
    "    return keylowest\n",
    " \n",
    "def dijkstra(grafo, inicio):\n",
    "    pqueue = {} \n",
    "    dist = {}   \n",
    " \n",
    "    for v in grafo:\n",
    "        dist[v] = 1000\n",
    "    dist[inicio] = 0\n",
    "    for v in grafo:\n",
    "        pqueue[v] = dist[v] # equivalent to push into queue\n",
    " \n",
    "    while pqueue:\n",
    "        u = popmin(pqueue) # for priority queues, pop will get the element with smallest value\n",
    "        for v in grafo[u].keys(): # for each neighbor of u\n",
    "            w = grafo[u][v] # distance u to v\n",
    "            if w < 1000:\n",
    "                newdist = dist[u] + 1\n",
    "            if (newdist < dist[v]):\n",
    "                pqueue[v] = newdist\n",
    "                dist[v] = newdist \n",
    "    print (\"Numero de saltos desde el vertice \", inicio)\n",
    "    for v in dist: \n",
    "        print (v, \":\", dist[v])"
   ]
  },
  {
   "cell_type": "code",
   "execution_count": 36,
   "metadata": {
    "collapsed": false
   },
   "outputs": [
    {
     "name": "stdout",
     "output_type": "stream",
     "text": [
      "Numero de saltos desde el vertice  0\n",
      "0 : 0\n",
      "1 : 1\n",
      "2 : 1\n",
      "3 : 2\n",
      "4 : 2\n",
      "5 : 3\n"
     ]
    }
   ],
   "source": [
    "graph = {0 : {1:10, 2:5},\n",
    "1 : {4:3},\n",
    "2 : {3:4},\n",
    "3 : {},\n",
    "4 : {5:8},\n",
    "5 : {2:2, 3:2}}\n",
    " \n",
    "dijkstra(graph, 0)"
   ]
  }
 ],
 "metadata": {
  "anaconda-cloud": {},
  "kernelspec": {
   "display_name": "Python [default]",
   "language": "python",
   "name": "python3"
  },
  "language_info": {
   "codemirror_mode": {
    "name": "ipython",
    "version": 3
   },
   "file_extension": ".py",
   "mimetype": "text/x-python",
   "name": "python",
   "nbconvert_exporter": "python",
   "pygments_lexer": "ipython3",
   "version": "3.5.2"
  }
 },
 "nbformat": 4,
 "nbformat_minor": 1
}
