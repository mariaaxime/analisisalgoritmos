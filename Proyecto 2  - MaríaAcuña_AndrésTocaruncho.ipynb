{
 "cells": [
  {
   "cell_type": "markdown",
   "metadata": {},
   "source": [
    "<h3> Proyecto 2 </h3>\n",
    "María Ximena Acuña -  Andrés Felipe Tocaruncho"
   ]
  },
  {
   "cell_type": "code",
   "execution_count": 51,
   "metadata": {
    "collapsed": false
   },
   "outputs": [],
   "source": [
    "import itertools \n",
    "\n",
    "def punto1A(nombre_archivo):\n",
    "    dist = []\n",
    "    ids = []\n",
    "    nombres = []\n",
    "    \n",
    "    archivo = open(nombre_archivo, \"r\")\n",
    "    \n",
    "    k = int(archivo.readline())\n",
    "    \n",
    "    for i in archivo.readlines():\n",
    "        linea = i.split(\" \")\n",
    "        nombres.append(linea[0])\n",
    "        ids.append(len(nombres)-1)\n",
    "        dist.append([])\n",
    "        for j in range(1, len(linea)):\n",
    "            dist[len(ids)-1].append(int(linea[j]))\n",
    "    \n",
    "    comb = itertools.combinations(ids, k)\n",
    "    lista_comb = [list(x) for x in comb]\n",
    "    \n",
    "    print (dist)\n",
    "    \n",
    "    dist = floyd_warshall(dist)\n",
    "    \n",
    "    menor = 100000\n",
    "    abrir = []\n",
    "    for i in range(len(lista_comb)):        \n",
    "        cost = costo(lista_comb[i], len(ids), dist)\n",
    "        if (cost < menor):\n",
    "            menor = cost\n",
    "            abrir = lista_comb[i]\n",
    "            \n",
    "    output = open(nombre_archivo.replace(\"input\", \"output\"), \"w\")\n",
    "    \n",
    "    output.write(str(menor) + \"\\n\")\n",
    "    \n",
    "    for a in abrir:\n",
    "        output.write(nombres[a] + \",\")\n",
    "        \n",
    "    print (\"Se abren los barrios \", abrir, \"con costo \", menor)\n",
    "        \n",
    "def costo(combinacion, n, dist):\n",
    "    total = 0\n",
    "    for i in range(n):\n",
    "        menor = 100000\n",
    "        for j in combinacion:\n",
    "            if (dist[j][i] < menor):\n",
    "                menor = dist[j][i]\n",
    "        total = total + menor\n",
    "    return total\n",
    "\n",
    "def floyd_warshall(dist):    \n",
    "    for i in range(len(dist)):\n",
    "        for j in range(len(dist)):\n",
    "            for k in range(len(dist)):\n",
    "                if(dist[j][i]+dist[i][k]<dist[j][k]):\n",
    "                    dist[j][k] = dist[j][i]+dist[i][k]\n",
    "    return dist"
   ]
  },
  {
   "cell_type": "code",
   "execution_count": 52,
   "metadata": {
    "collapsed": false
   },
   "outputs": [
    {
     "name": "stdout",
     "output_type": "stream",
     "text": [
      "[[0, 6, 20, 2], [6, 0, 9, 19], [20, 9, 0, 18], [2, 19, 18, 0]]\n",
      "Se abren los barrios  [0, 1, 2] con costo  2\n"
     ]
    }
   ],
   "source": [
    "punto1A(\"input_n5_k3\")"
   ]
  },
  {
   "cell_type": "code",
   "execution_count": 53,
   "metadata": {
    "collapsed": false
   },
   "outputs": [],
   "source": [
    "import itertools \n",
    "\n",
    "def punto1B(nombre_archivo):\n",
    "    dist = []\n",
    "    ids = []\n",
    "    nombres = []\n",
    "    costos = []\n",
    "    lista_comb = []\n",
    "    \n",
    "    archivo = open(nombre_archivo, \"r\")\n",
    "    \n",
    "    k = int(archivo.readline())\n",
    "    \n",
    "    for i in archivo.readlines():\n",
    "        linea = i.split(\" \")\n",
    "        nombres.append(linea[0])\n",
    "        ids.append(len(nombres)-1)\n",
    "        costos.append(int(linea[1]))\n",
    "        dist.append([])\n",
    "        for j in range(2, len(linea)):\n",
    "            dist[len(ids)-1].append(int(linea[j]))\n",
    "    \n",
    "    for i in range(1,k+1):\n",
    "        comb = itertools.combinations(ids, i)\n",
    "        list_comb = [list(x) for x in comb]\n",
    "        for j in list_comb:\n",
    "            lista_comb.append(j)\n",
    "    \n",
    "    dist = floyd_warshall(dist)\n",
    "    \n",
    "    menor = 100000\n",
    "    abrir = []\n",
    "    for i in range(len(lista_comb)):        \n",
    "        cost = costo(lista_comb[i], len(ids), dist, costos)\n",
    "        if (cost < menor):\n",
    "            menor = cost\n",
    "            abrir = lista_comb[i]\n",
    "            \n",
    "    output = open(nombre_archivo.replace(\"input\", \"output\"), \"w\")\n",
    "    \n",
    "    output.write(str(menor) + \"\\n\")\n",
    "    \n",
    "    for a in abrir:\n",
    "        output.write(nombres[a] + \",\")\n",
    "        \n",
    "    print (\"Se abren los barrios \", abrir, \"con costo \", menor)\n",
    "        \n",
    "def costo(combinacion, n, dist, costos):\n",
    "    total = 0\n",
    "    \n",
    "    for j in combinacion:\n",
    "        total += costos[j]\n",
    "    \n",
    "    for i in range(n):\n",
    "        menor = 100000\n",
    "        for j in combinacion:\n",
    "            if (dist[j][i] < menor):\n",
    "                menor = dist[j][i]\n",
    "        total = total + menor\n",
    "    return total\n",
    "\n",
    "def floyd_warshall(dist):    \n",
    "    for i in range(len(dist)):\n",
    "        for j in range(len(dist)):\n",
    "            for k in range(len(dist)):\n",
    "                if(dist[j][i]+dist[i][k]<dist[j][k]):\n",
    "                    dist[j][k] = dist[j][i]+dist[i][k]\n",
    "    return dist"
   ]
  },
  {
   "cell_type": "code",
   "execution_count": 54,
   "metadata": {
    "collapsed": false
   },
   "outputs": [
    {
     "name": "stdout",
     "output_type": "stream",
     "text": [
      "Se abren los barrios  [1] con costo  39\n"
     ]
    }
   ],
   "source": [
    "punto1B(\"input_n5_k3_c\")"
   ]
  },
  {
   "cell_type": "code",
   "execution_count": 55,
   "metadata": {
    "collapsed": false
   },
   "outputs": [],
   "source": [
    "def punto2(nombre_archivo):\n",
    "    aristas = []\n",
    "    azules=[]\n",
    "    rojos=[]\n",
    "    destino=[]\n",
    "\n",
    "    archivo = open(nombre_archivo, \"r\")\n",
    "    \n",
    "    n = int(archivo.readline())\n",
    "    a=int(archivo.readline())\n",
    "    r=n-a-1\n",
    "    k=0\n",
    "    \n",
    "    for i in range(n):\n",
    "        destino.append(0)\n",
    "    \n",
    "    for i in archivo.readlines():\n",
    "        \n",
    "        linea = i.split(\" \")\n",
    "        \n",
    "        for j in range (0, len(linea)-1):\n",
    "            arista = {}\n",
    "            if linea[j] != \"Inf\":\n",
    "                info=linea[j].split(\"/\")\n",
    "                arista['origen'] = k\n",
    "                arista['destino'] = j+k\n",
    "                arista['peso'] = int(info[0])\n",
    "                arista['color'] = info[1]\n",
    "                aristas.append(arista)\n",
    "        k=k+1\n",
    "    \n",
    "    \n",
    "    aux=[]\n",
    "    for i in range(0, len(aristas)):\n",
    "        for j in range(i, len(aristas)):\n",
    "            if aristas[i]['peso']>aristas[j]['peso']:\n",
    "                aux=aristas[i]\n",
    "                aristas[i]=aristas[j]\n",
    "                aristas[j]=aux\n",
    "    print (aristas)\n",
    "    \n",
    "    y=0\n",
    "    x=0\n",
    "    distancia=0\n",
    "    \n",
    "        \n",
    "    for ari in aristas:\n",
    "        if sum(destino) < n-1:\n",
    "            if ari['color'] == \"R\" and x < r:\n",
    "                distancia += ari['peso']\n",
    "                destino[ari['destino']] = 1\n",
    "                rojos.append((ari['origen'], ari['destino']))\n",
    "                x+=1\n",
    "            if ari['color'] == \"B\" and y < a:\n",
    "                distancia += ari['peso']\n",
    "                destino[ari['destino']] = 1\n",
    "                azules.append((ari['origen'], ari['destino']))\n",
    "                y+=1\n",
    "        \n",
    "    print (distancia, azules, rojos)\n",
    "    \n",
    "    output = open(nombre_archivo.replace(\"input\", \"output\"), \"w\")\n",
    "    \n",
    "    output.write(str(distancia) + \"\\n\")\n",
    "    for azul in azules:\n",
    "        output.write(str(azul))\n",
    "    output.write(\"\\n\")\n",
    "    for rojo in rojos:\n",
    "        output.write(str(rojo))"
   ]
  },
  {
   "cell_type": "code",
   "execution_count": 56,
   "metadata": {
    "collapsed": false,
    "scrolled": true
   },
   "outputs": [
    {
     "name": "stdout",
     "output_type": "stream",
     "text": [
      "[{'origen': 1, 'color': 'R', 'peso': 1, 'destino': 5}, {'origen': 6, 'color': 'B', 'peso': 1, 'destino': 7}, {'origen': 1, 'color': 'R', 'peso': 3, 'destino': 2}, {'origen': 1, 'color': 'B', 'peso': 3, 'destino': 3}, {'origen': 2, 'color': 'B', 'peso': 4, 'destino': 6}, {'origen': 0, 'color': 'B', 'peso': 4, 'destino': 4}, {'origen': 5, 'color': 'R', 'peso': 5, 'destino': 7}, {'origen': 0, 'color': 'R', 'peso': 5, 'destino': 2}, {'origen': 3, 'color': 'B', 'peso': 6, 'destino': 7}, {'origen': 2, 'color': 'B', 'peso': 6, 'destino': 4}, {'origen': 3, 'color': 'B', 'peso': 6, 'destino': 5}, {'origen': 4, 'color': 'B', 'peso': 7, 'destino': 6}, {'origen': 1, 'color': 'B', 'peso': 8, 'destino': 6}]\n",
      "22 [(6, 7), (1, 3), (2, 6), (0, 4), (3, 7)] [(1, 5), (1, 2)]\n"
     ]
    }
   ],
   "source": [
    "punto2(\"input_n8_b5_r2\")"
   ]
  },
  {
   "cell_type": "code",
   "execution_count": null,
   "metadata": {
    "collapsed": true
   },
   "outputs": [],
   "source": []
  }
 ],
 "metadata": {
  "anaconda-cloud": {},
  "kernelspec": {
   "display_name": "Python [default]",
   "language": "python",
   "name": "python3"
  },
  "language_info": {
   "codemirror_mode": {
    "name": "ipython",
    "version": 3
   },
   "file_extension": ".py",
   "mimetype": "text/x-python",
   "name": "python",
   "nbconvert_exporter": "python",
   "pygments_lexer": "ipython3",
   "version": "3.5.2"
  }
 },
 "nbformat": 4,
 "nbformat_minor": 1
}
