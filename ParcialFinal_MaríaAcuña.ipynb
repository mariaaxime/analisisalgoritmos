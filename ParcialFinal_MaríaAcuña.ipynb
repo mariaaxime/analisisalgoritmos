{
 "cells": [
  {
   "cell_type": "markdown",
   "metadata": {},
   "source": [
    "<h1>PARCIAL 2</h1>"
   ]
  },
  {
   "cell_type": "markdown",
   "metadata": {},
   "source": [
    "<h3> María Ximena Acuña Mosquera </h3>"
   ]
  },
  {
   "cell_type": "code",
   "execution_count": 73,
   "metadata": {
    "collapsed": false
   },
   "outputs": [],
   "source": [
    "import math\n",
    "import numpy as np\n",
    "import pylab as pl\n",
    "%matplotlib inline"
   ]
  },
  {
   "cell_type": "code",
   "execution_count": 74,
   "metadata": {
    "collapsed": false
   },
   "outputs": [],
   "source": [
    "class Counter:\n",
    "    '''\n",
    "    Class Counter\n",
    "    Implements a step counter, which is used to compute the number of basic operations performed in\n",
    "    a particular call to a function.\n",
    "    '''\n",
    "    def __init__(self):\n",
    "        self.steps = 0\n",
    "\n",
    "    def reset(self):\n",
    "        self.steps = 0\n",
    "\n",
    "    def count(self):\n",
    "        self.steps += 1\n",
    "\n",
    "    def print_steps(self):\n",
    "        print \"Number of steps =\", self.steps\n",
    "        \n",
    "def acct_insertion_sort(A, acct):\n",
    "    j = 1; acct.count()\n",
    "    acct.count()\n",
    "    while j < len(A):\n",
    "        acct.count()\n",
    "        key = A[j]; acct.count()\n",
    "        i = j - 1; acct.count()\n",
    "        acct.count()\n",
    "        while (i >= 0) and (A[i] > key):\n",
    "            acct.count()\n",
    "            A[i + 1] = A[i]; acct.count()\n",
    "            i = i -1; acct.count()\n",
    "        A[i + 1] = key; acct.count()\n",
    "        j = j + 1; acct.count()"
   ]
  },
  {
   "cell_type": "markdown",
   "metadata": {},
   "source": [
    "<h2>Describa un algoritmo que determine en tiempo O(n2lg n) si existen tres puntos colineales de un conjunto de n puntos dados.\n",
    "</h2>"
   ]
  },
  {
   "cell_type": "code",
   "execution_count": 75,
   "metadata": {
    "collapsed": false
   },
   "outputs": [],
   "source": [
    "def puntos_colineales(X, Y, acct):\n",
    "    bandera=1\n",
    "    puntos=[]\n",
    "    dist = [[0 for i in range(len(X))] for i in range(len(X))]\n",
    "    for i in range(0, len(X)):\n",
    "        for j in range(0, len(X)):\n",
    "            if i!=j:\n",
    "                dist[i][j]=math.sqrt(((X[j]-X[i])**2)+((Y[j]-Y[i])**2)); acct.count()\n",
    "    for i in range(0, len(X)):\n",
    "        for j in range(0, len(X)):\n",
    "            if i!=j:\n",
    "                externa = dist[i][j]; acct.count()\n",
    "                for k in range(0,len(X)):\n",
    "                    if k!=i and k!=j:\n",
    "                        \n",
    "                        interna1 = dist[j][k]; acct.count()\n",
    "                        interna2 = dist[i][k]; acct.count()\n",
    "                        if externa == interna1 + interna2:\n",
    "                            puntos.append((i+1,j+1,k+1)); acct.count()\n",
    "                            bandera=0\n",
    "                        else: \n",
    "                            if bandera!=0:\n",
    "                                b=0; acct.count()\n",
    "              \n",
    "    if not puntos:\n",
    "        return \"No existen puntos colineales\"\n",
    "    else:\n",
    "        return \"Existen los puntos colineales \", puntos"
   ]
  },
  {
   "cell_type": "markdown",
   "metadata": {},
   "source": [
    "<h3>Casos de prueba</h3>"
   ]
  },
  {
   "cell_type": "code",
   "execution_count": 76,
   "metadata": {
    "collapsed": false
   },
   "outputs": [
    {
     "name": "stdout",
     "output_type": "stream",
     "text": [
      "Number of steps = 181\n",
      "('Existen los puntos colineales ', [(2, 4, 3), (4, 2, 3)])\n"
     ]
    }
   ],
   "source": [
    "X=[1, 4, 6, 9, 5]\n",
    "Y=[2, 4, 6, 9, 11]\n",
    "acct = Counter()\n",
    "resultado = puntos_colineales(X, Y, acct)\n",
    "acct.print_steps()\n",
    "print resultado"
   ]
  },
  {
   "cell_type": "code",
   "execution_count": 77,
   "metadata": {
    "collapsed": false
   },
   "outputs": [
    {
     "name": "stdout",
     "output_type": "stream",
     "text": [
      "Number of steps = 220\n",
      "No existen puntos colineales\n"
     ]
    }
   ],
   "source": [
    "X=[1, 5, 6, 9, 5]\n",
    "Y=[2, 4, 6, 9, 11]\n",
    "acct = Counter()\n",
    "resultado = puntos_colineales(X, Y, acct)\n",
    "acct.print_steps()\n",
    "print resultado"
   ]
  },
  {
   "cell_type": "markdown",
   "metadata": {},
   "source": [
    "<h3>Análisis de tiempo</h3>"
   ]
  },
  {
   "cell_type": "markdown",
   "metadata": {},
   "source": [
    "Número de pasos"
   ]
  },
  {
   "cell_type": "code",
   "execution_count": 78,
   "metadata": {
    "collapsed": true
   },
   "outputs": [],
   "source": [
    "import random as rnd\n",
    "\n",
    "def exper_analysis(n):\n",
    "    results = []\n",
    "    acct = Counter()\n",
    "    for i in range(1,n):\n",
    "        X = range(i)\n",
    "        Y = range(i)\n",
    "        acct.reset()\n",
    "        puntos_colineales(X, Y, acct)\n",
    "        results.append(acct.steps)\n",
    "    return results"
   ]
  },
  {
   "cell_type": "code",
   "execution_count": 79,
   "metadata": {
    "collapsed": false
   },
   "outputs": [
    {
     "name": "stdout",
     "output_type": "stream",
     "text": [
      "[0, 4, 27, 78, 171, 324, 543, 850, 1251]\n"
     ]
    }
   ],
   "source": [
    "print (exper_analysis(10))"
   ]
  },
  {
   "cell_type": "markdown",
   "metadata": {},
   "source": [
    "Tiempo de ejecución"
   ]
  },
  {
   "cell_type": "code",
   "execution_count": 80,
   "metadata": {
    "collapsed": true
   },
   "outputs": [],
   "source": [
    "import time\n",
    "\n",
    "def time_analysis(n):\n",
    "    results = []\n",
    "    acct = Counter()\n",
    "    for i in range(1,n):\n",
    "        X = range(i)\n",
    "        Y = range(i)\n",
    "        acct.reset()\n",
    "        tic = time.clock()#get start time\n",
    "        puntos_colineales(X, Y, acct)\n",
    "        toc = time.clock()#get final time\n",
    "        results.append((toc-tic)*100000)        \n",
    "    return results\n"
   ]
  },
  {
   "cell_type": "code",
   "execution_count": 81,
   "metadata": {
    "collapsed": false
   },
   "outputs": [
    {
     "name": "stdout",
     "output_type": "stream",
     "text": [
      "[1.0999999999983245, 2.199999999996649, 4.8000000000048, 10.299999999996423, 19.49999999999452, 33.69999999998097, 53.79999999999274, 81.59999999999279, 115.70000000000746]\n"
     ]
    }
   ],
   "source": [
    "print (time_analysis(10))"
   ]
  },
  {
   "cell_type": "markdown",
   "metadata": {},
   "source": [
    "Tiempo teórico"
   ]
  },
  {
   "cell_type": "code",
   "execution_count": 82,
   "metadata": {
    "collapsed": true
   },
   "outputs": [],
   "source": [
    "import random as ran\n",
    "\n",
    "def operation_analysis(n):\n",
    "    results=[]\n",
    "    for i in range(1,n):\n",
    "        l=i*i*np.log(i)\n",
    "        results.append(l)\n",
    "    \n",
    "    return results\n"
   ]
  },
  {
   "cell_type": "code",
   "execution_count": 83,
   "metadata": {
    "collapsed": false
   },
   "outputs": [
    {
     "name": "stdout",
     "output_type": "stream",
     "text": [
      "[0.0, 2.7725887222397811, 9.8875105980129874, 22.180709777918249, 40.235947810852508, 64.503340892209977, 95.349597303710354, 133.08425866750949, 177.97519076423379]\n"
     ]
    }
   ],
   "source": [
    "print (operation_analysis(10))"
   ]
  },
  {
   "cell_type": "markdown",
   "metadata": {},
   "source": [
    "<h2>Diseñe un algoritmo que en tiempo O(n lg n) pueda determinar si un poligono definido por una secuencia de n puntos es simple (sus segmentos no se intersectan entre si).</h2>"
   ]
  },
  {
   "cell_type": "code",
   "execution_count": 84,
   "metadata": {
    "collapsed": false
   },
   "outputs": [],
   "source": [
    "def poligono_simple(X,Y, acct):\n",
    "    bandera = 1\n",
    "    for i in range(0, len(X)):\n",
    "        for j in range(i+1, len(X)):\n",
    "            for k in range(j+1, len(X)):\n",
    "                    i1=max(min(X[i],X[j]),min(X[j],X[k])); acct.count();\n",
    "                    i2=min(max(X[i],X[j]),max(X[j],X[k])); acct.count();\n",
    "                    \n",
    "                    if((X[i]-X[j])!=0 and (X[j]-X[k])!=0):\n",
    "                        a=(Y[i]-Y[j])/(X[i]-X[j]); acct.count();\n",
    "                        b=(Y[j]-Y[k])/(X[j]-X[k]); acct.count();\n",
    "                        c=Y[i]-a*X[i]; acct.count();\n",
    "                        d=Y[j]-b*X[j]; acct.count();\n",
    "                        \n",
    "                        if (a-b!=0):\n",
    "                            xa=(d-c)/(a-b); acct.count();\n",
    "                            if (xa<i1 or xa>i2):                                \n",
    "                                bandera = 0 #Existe una intersección   \n",
    "                                \n",
    "    if bandera == 1:\n",
    "        return \"Es simple\"\n",
    "    else:        \n",
    "        return \"No es simple\""
   ]
  },
  {
   "cell_type": "markdown",
   "metadata": {},
   "source": [
    "<h3>Casos de prueba</h3>"
   ]
  },
  {
   "cell_type": "code",
   "execution_count": 85,
   "metadata": {
    "collapsed": false
   },
   "outputs": [
    {
     "name": "stdout",
     "output_type": "stream",
     "text": [
      "Number of steps = 131\n",
      "No es simple\n"
     ]
    }
   ],
   "source": [
    "X=[1, 4, 9, 11, 2, 1]\n",
    "Y=[1, 4, 9, 5, 4,1]\n",
    "acct = Counter()\n",
    "resultado = poligono_simple(X,Y, acct)\n",
    "acct.print_steps()\n",
    "print resultado"
   ]
  },
  {
   "cell_type": "code",
   "execution_count": 86,
   "metadata": {
    "collapsed": false
   },
   "outputs": [
    {
     "name": "stdout",
     "output_type": "stream",
     "text": [
      "Number of steps = 64\n",
      "Es simple\n"
     ]
    }
   ],
   "source": [
    "X=[1, 4, 9, 11, 1]\n",
    "Y=[1, 4, 9, 5, 1]\n",
    "acct = Counter()\n",
    "resultado = poligono_simple(X,Y, acct)\n",
    "acct.print_steps()\n",
    "print resultado"
   ]
  },
  {
   "cell_type": "markdown",
   "metadata": {},
   "source": [
    "<h3>Análisis de tiempo</h3>"
   ]
  },
  {
   "cell_type": "markdown",
   "metadata": {},
   "source": [
    "Número de pasos"
   ]
  },
  {
   "cell_type": "code",
   "execution_count": 87,
   "metadata": {
    "collapsed": true
   },
   "outputs": [],
   "source": [
    "import random as rnd\n",
    "\n",
    "def exper_analysis(n):\n",
    "    results = []\n",
    "    acct = Counter()\n",
    "    for i in range(1,n):\n",
    "        X = range(i)\n",
    "        Y = range(i)\n",
    "        acct.reset()\n",
    "        resultado = poligono_simple(X, Y, acct)\n",
    "        results.append(acct.steps)\n",
    "    return results"
   ]
  },
  {
   "cell_type": "code",
   "execution_count": 88,
   "metadata": {
    "collapsed": false
   },
   "outputs": [
    {
     "name": "stdout",
     "output_type": "stream",
     "text": [
      "[0, 0, 6, 24, 60, 120, 210, 336, 504]\n"
     ]
    }
   ],
   "source": [
    "print (exper_analysis(10))"
   ]
  },
  {
   "cell_type": "markdown",
   "metadata": {},
   "source": [
    "Tiempo de ejecución"
   ]
  },
  {
   "cell_type": "code",
   "execution_count": 89,
   "metadata": {
    "collapsed": true
   },
   "outputs": [],
   "source": [
    "import time\n",
    "\n",
    "def time_analysis(n):\n",
    "    results = []\n",
    "    acct = Counter()\n",
    "    for i in range(1,n):\n",
    "        X = range(i)\n",
    "        Y = range(i)\n",
    "        acct.reset()\n",
    "        tic = time.clock()#get start time\n",
    "        resultado = poligono_simple(X, Y, acct)\n",
    "        toc = time.clock()#get final time\n",
    "        results.append((toc-tic)*100000)        \n",
    "    return results\n"
   ]
  },
  {
   "cell_type": "code",
   "execution_count": 90,
   "metadata": {
    "collapsed": false
   },
   "outputs": [
    {
     "name": "stdout",
     "output_type": "stream",
     "text": [
      "[0.3999999999892978, 0.8000000000008001, 1.6999999999933735, 3.5000000000007248, 8.699999999994823, 15.499999999990521, 25.700000000017376, 40.29999999999312, 61.50000000000322]\n"
     ]
    }
   ],
   "source": [
    "print (time_analysis(10))"
   ]
  },
  {
   "cell_type": "markdown",
   "metadata": {},
   "source": [
    "Tiempo teórico"
   ]
  },
  {
   "cell_type": "code",
   "execution_count": 91,
   "metadata": {
    "collapsed": true
   },
   "outputs": [],
   "source": [
    "import random as ran\n",
    "\n",
    "def operation_analysis(n):\n",
    "    results=[]\n",
    "    for i in range(1,n):\n",
    "        l=i*np.log(i)\n",
    "        results.append(l)    \n",
    "    return results"
   ]
  },
  {
   "cell_type": "code",
   "execution_count": 92,
   "metadata": {
    "collapsed": false
   },
   "outputs": [
    {
     "name": "stdout",
     "output_type": "stream",
     "text": [
      "[0.0, 1.3862943611198906, 3.2958368660043291, 5.5451774444795623, 8.0471895621705016, 10.750556815368331, 13.621371043387192, 16.635532333438686, 19.775021196025975]\n"
     ]
    }
   ],
   "source": [
    "print (operation_analysis(10))"
   ]
  }
 ],
 "metadata": {
  "anaconda-cloud": {},
  "kernelspec": {
   "display_name": "Python 2",
   "language": "python",
   "name": "python2"
  },
  "language_info": {
   "codemirror_mode": {
    "name": "ipython",
    "version": 2
   },
   "file_extension": ".py",
   "mimetype": "text/x-python",
   "name": "python",
   "nbconvert_exporter": "python",
   "pygments_lexer": "ipython2",
   "version": "2.7.12"
  }
 },
 "nbformat": 4,
 "nbformat_minor": 1
}
